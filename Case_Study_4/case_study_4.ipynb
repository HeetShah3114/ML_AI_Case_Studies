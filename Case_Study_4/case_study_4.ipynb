{
  "nbformat": 4,
  "nbformat_minor": 0,
  "metadata": {
    "colab": {
      "provenance": [],
      "toc_visible": true
    },
    "kernelspec": {
      "name": "python3",
      "display_name": "Python 3"
    },
    "language_info": {
      "name": "python"
    }
  },
  "cells": [
    {
      "cell_type": "code",
      "execution_count": 1,
      "metadata": {
        "colab": {
          "base_uri": "https://localhost:8080/",
          "height": 73
        },
        "id": "2OYkqbbCMWFv",
        "outputId": "24415a22-b8df-4dde-d27e-13774bf8a3c9"
      },
      "outputs": [
        {
          "output_type": "display_data",
          "data": {
            "text/plain": [
              "<IPython.core.display.HTML object>"
            ],
            "text/html": [
              "\n",
              "     <input type=\"file\" id=\"files-67a6cfe0-5d55-40a0-bc78-d9c8f9671124\" name=\"files[]\" multiple disabled\n",
              "        style=\"border:none\" />\n",
              "     <output id=\"result-67a6cfe0-5d55-40a0-bc78-d9c8f9671124\">\n",
              "      Upload widget is only available when the cell has been executed in the\n",
              "      current browser session. Please rerun this cell to enable.\n",
              "      </output>\n",
              "      <script>// Copyright 2017 Google LLC\n",
              "//\n",
              "// Licensed under the Apache License, Version 2.0 (the \"License\");\n",
              "// you may not use this file except in compliance with the License.\n",
              "// You may obtain a copy of the License at\n",
              "//\n",
              "//      http://www.apache.org/licenses/LICENSE-2.0\n",
              "//\n",
              "// Unless required by applicable law or agreed to in writing, software\n",
              "// distributed under the License is distributed on an \"AS IS\" BASIS,\n",
              "// WITHOUT WARRANTIES OR CONDITIONS OF ANY KIND, either express or implied.\n",
              "// See the License for the specific language governing permissions and\n",
              "// limitations under the License.\n",
              "\n",
              "/**\n",
              " * @fileoverview Helpers for google.colab Python module.\n",
              " */\n",
              "(function(scope) {\n",
              "function span(text, styleAttributes = {}) {\n",
              "  const element = document.createElement('span');\n",
              "  element.textContent = text;\n",
              "  for (const key of Object.keys(styleAttributes)) {\n",
              "    element.style[key] = styleAttributes[key];\n",
              "  }\n",
              "  return element;\n",
              "}\n",
              "\n",
              "// Max number of bytes which will be uploaded at a time.\n",
              "const MAX_PAYLOAD_SIZE = 100 * 1024;\n",
              "\n",
              "function _uploadFiles(inputId, outputId) {\n",
              "  const steps = uploadFilesStep(inputId, outputId);\n",
              "  const outputElement = document.getElementById(outputId);\n",
              "  // Cache steps on the outputElement to make it available for the next call\n",
              "  // to uploadFilesContinue from Python.\n",
              "  outputElement.steps = steps;\n",
              "\n",
              "  return _uploadFilesContinue(outputId);\n",
              "}\n",
              "\n",
              "// This is roughly an async generator (not supported in the browser yet),\n",
              "// where there are multiple asynchronous steps and the Python side is going\n",
              "// to poll for completion of each step.\n",
              "// This uses a Promise to block the python side on completion of each step,\n",
              "// then passes the result of the previous step as the input to the next step.\n",
              "function _uploadFilesContinue(outputId) {\n",
              "  const outputElement = document.getElementById(outputId);\n",
              "  const steps = outputElement.steps;\n",
              "\n",
              "  const next = steps.next(outputElement.lastPromiseValue);\n",
              "  return Promise.resolve(next.value.promise).then((value) => {\n",
              "    // Cache the last promise value to make it available to the next\n",
              "    // step of the generator.\n",
              "    outputElement.lastPromiseValue = value;\n",
              "    return next.value.response;\n",
              "  });\n",
              "}\n",
              "\n",
              "/**\n",
              " * Generator function which is called between each async step of the upload\n",
              " * process.\n",
              " * @param {string} inputId Element ID of the input file picker element.\n",
              " * @param {string} outputId Element ID of the output display.\n",
              " * @return {!Iterable<!Object>} Iterable of next steps.\n",
              " */\n",
              "function* uploadFilesStep(inputId, outputId) {\n",
              "  const inputElement = document.getElementById(inputId);\n",
              "  inputElement.disabled = false;\n",
              "\n",
              "  const outputElement = document.getElementById(outputId);\n",
              "  outputElement.innerHTML = '';\n",
              "\n",
              "  const pickedPromise = new Promise((resolve) => {\n",
              "    inputElement.addEventListener('change', (e) => {\n",
              "      resolve(e.target.files);\n",
              "    });\n",
              "  });\n",
              "\n",
              "  const cancel = document.createElement('button');\n",
              "  inputElement.parentElement.appendChild(cancel);\n",
              "  cancel.textContent = 'Cancel upload';\n",
              "  const cancelPromise = new Promise((resolve) => {\n",
              "    cancel.onclick = () => {\n",
              "      resolve(null);\n",
              "    };\n",
              "  });\n",
              "\n",
              "  // Wait for the user to pick the files.\n",
              "  const files = yield {\n",
              "    promise: Promise.race([pickedPromise, cancelPromise]),\n",
              "    response: {\n",
              "      action: 'starting',\n",
              "    }\n",
              "  };\n",
              "\n",
              "  cancel.remove();\n",
              "\n",
              "  // Disable the input element since further picks are not allowed.\n",
              "  inputElement.disabled = true;\n",
              "\n",
              "  if (!files) {\n",
              "    return {\n",
              "      response: {\n",
              "        action: 'complete',\n",
              "      }\n",
              "    };\n",
              "  }\n",
              "\n",
              "  for (const file of files) {\n",
              "    const li = document.createElement('li');\n",
              "    li.append(span(file.name, {fontWeight: 'bold'}));\n",
              "    li.append(span(\n",
              "        `(${file.type || 'n/a'}) - ${file.size} bytes, ` +\n",
              "        `last modified: ${\n",
              "            file.lastModifiedDate ? file.lastModifiedDate.toLocaleDateString() :\n",
              "                                    'n/a'} - `));\n",
              "    const percent = span('0% done');\n",
              "    li.appendChild(percent);\n",
              "\n",
              "    outputElement.appendChild(li);\n",
              "\n",
              "    const fileDataPromise = new Promise((resolve) => {\n",
              "      const reader = new FileReader();\n",
              "      reader.onload = (e) => {\n",
              "        resolve(e.target.result);\n",
              "      };\n",
              "      reader.readAsArrayBuffer(file);\n",
              "    });\n",
              "    // Wait for the data to be ready.\n",
              "    let fileData = yield {\n",
              "      promise: fileDataPromise,\n",
              "      response: {\n",
              "        action: 'continue',\n",
              "      }\n",
              "    };\n",
              "\n",
              "    // Use a chunked sending to avoid message size limits. See b/62115660.\n",
              "    let position = 0;\n",
              "    do {\n",
              "      const length = Math.min(fileData.byteLength - position, MAX_PAYLOAD_SIZE);\n",
              "      const chunk = new Uint8Array(fileData, position, length);\n",
              "      position += length;\n",
              "\n",
              "      const base64 = btoa(String.fromCharCode.apply(null, chunk));\n",
              "      yield {\n",
              "        response: {\n",
              "          action: 'append',\n",
              "          file: file.name,\n",
              "          data: base64,\n",
              "        },\n",
              "      };\n",
              "\n",
              "      let percentDone = fileData.byteLength === 0 ?\n",
              "          100 :\n",
              "          Math.round((position / fileData.byteLength) * 100);\n",
              "      percent.textContent = `${percentDone}% done`;\n",
              "\n",
              "    } while (position < fileData.byteLength);\n",
              "  }\n",
              "\n",
              "  // All done.\n",
              "  yield {\n",
              "    response: {\n",
              "      action: 'complete',\n",
              "    }\n",
              "  };\n",
              "}\n",
              "\n",
              "scope.google = scope.google || {};\n",
              "scope.google.colab = scope.google.colab || {};\n",
              "scope.google.colab._files = {\n",
              "  _uploadFiles,\n",
              "  _uploadFilesContinue,\n",
              "};\n",
              "})(self);\n",
              "</script> "
            ]
          },
          "metadata": {}
        },
        {
          "output_type": "stream",
          "name": "stdout",
          "text": [
            "Saving Crop_recommendation.csv to Crop_recommendation.csv\n"
          ]
        }
      ],
      "source": [
        "from google.colab import files\n",
        "uploaded = files.upload()"
      ]
    },
    {
      "cell_type": "markdown",
      "source": [
        "# Preprocessing the dataset"
      ],
      "metadata": {
        "id": "Fs2FR4W4MpGi"
      }
    },
    {
      "cell_type": "code",
      "source": [
        "import pandas as pd\n",
        "\n",
        "df = pd.read_csv(\"Crop_recommendation.csv\")\n",
        "df.info()\n",
        "df.head()"
      ],
      "metadata": {
        "colab": {
          "base_uri": "https://localhost:8080/",
          "height": 466
        },
        "id": "mWW9TBC9MpUF",
        "outputId": "a3a42a09-8d3b-4b14-f000-e03a359aabdd"
      },
      "execution_count": 1,
      "outputs": [
        {
          "output_type": "stream",
          "name": "stdout",
          "text": [
            "<class 'pandas.core.frame.DataFrame'>\n",
            "RangeIndex: 2200 entries, 0 to 2199\n",
            "Data columns (total 8 columns):\n",
            " #   Column       Non-Null Count  Dtype  \n",
            "---  ------       --------------  -----  \n",
            " 0   N            2200 non-null   int64  \n",
            " 1   P            2200 non-null   int64  \n",
            " 2   K            2200 non-null   int64  \n",
            " 3   temperature  2200 non-null   float64\n",
            " 4   humidity     2200 non-null   float64\n",
            " 5   ph           2200 non-null   float64\n",
            " 6   rainfall     2200 non-null   float64\n",
            " 7   label        2200 non-null   object \n",
            "dtypes: float64(4), int64(3), object(1)\n",
            "memory usage: 137.6+ KB\n"
          ]
        },
        {
          "output_type": "execute_result",
          "data": {
            "text/plain": [
              "    N   P   K  temperature   humidity        ph    rainfall label\n",
              "0  90  42  43    20.879744  82.002744  6.502985  202.935536  rice\n",
              "1  85  58  41    21.770462  80.319644  7.038096  226.655537  rice\n",
              "2  60  55  44    23.004459  82.320763  7.840207  263.964248  rice\n",
              "3  74  35  40    26.491096  80.158363  6.980401  242.864034  rice\n",
              "4  78  42  42    20.130175  81.604873  7.628473  262.717340  rice"
            ],
            "text/html": [
              "\n",
              "  <div id=\"df-b0ea57fc-210b-49b2-96b3-c3651a141fea\" class=\"colab-df-container\">\n",
              "    <div>\n",
              "<style scoped>\n",
              "    .dataframe tbody tr th:only-of-type {\n",
              "        vertical-align: middle;\n",
              "    }\n",
              "\n",
              "    .dataframe tbody tr th {\n",
              "        vertical-align: top;\n",
              "    }\n",
              "\n",
              "    .dataframe thead th {\n",
              "        text-align: right;\n",
              "    }\n",
              "</style>\n",
              "<table border=\"1\" class=\"dataframe\">\n",
              "  <thead>\n",
              "    <tr style=\"text-align: right;\">\n",
              "      <th></th>\n",
              "      <th>N</th>\n",
              "      <th>P</th>\n",
              "      <th>K</th>\n",
              "      <th>temperature</th>\n",
              "      <th>humidity</th>\n",
              "      <th>ph</th>\n",
              "      <th>rainfall</th>\n",
              "      <th>label</th>\n",
              "    </tr>\n",
              "  </thead>\n",
              "  <tbody>\n",
              "    <tr>\n",
              "      <th>0</th>\n",
              "      <td>90</td>\n",
              "      <td>42</td>\n",
              "      <td>43</td>\n",
              "      <td>20.879744</td>\n",
              "      <td>82.002744</td>\n",
              "      <td>6.502985</td>\n",
              "      <td>202.935536</td>\n",
              "      <td>rice</td>\n",
              "    </tr>\n",
              "    <tr>\n",
              "      <th>1</th>\n",
              "      <td>85</td>\n",
              "      <td>58</td>\n",
              "      <td>41</td>\n",
              "      <td>21.770462</td>\n",
              "      <td>80.319644</td>\n",
              "      <td>7.038096</td>\n",
              "      <td>226.655537</td>\n",
              "      <td>rice</td>\n",
              "    </tr>\n",
              "    <tr>\n",
              "      <th>2</th>\n",
              "      <td>60</td>\n",
              "      <td>55</td>\n",
              "      <td>44</td>\n",
              "      <td>23.004459</td>\n",
              "      <td>82.320763</td>\n",
              "      <td>7.840207</td>\n",
              "      <td>263.964248</td>\n",
              "      <td>rice</td>\n",
              "    </tr>\n",
              "    <tr>\n",
              "      <th>3</th>\n",
              "      <td>74</td>\n",
              "      <td>35</td>\n",
              "      <td>40</td>\n",
              "      <td>26.491096</td>\n",
              "      <td>80.158363</td>\n",
              "      <td>6.980401</td>\n",
              "      <td>242.864034</td>\n",
              "      <td>rice</td>\n",
              "    </tr>\n",
              "    <tr>\n",
              "      <th>4</th>\n",
              "      <td>78</td>\n",
              "      <td>42</td>\n",
              "      <td>42</td>\n",
              "      <td>20.130175</td>\n",
              "      <td>81.604873</td>\n",
              "      <td>7.628473</td>\n",
              "      <td>262.717340</td>\n",
              "      <td>rice</td>\n",
              "    </tr>\n",
              "  </tbody>\n",
              "</table>\n",
              "</div>\n",
              "    <div class=\"colab-df-buttons\">\n",
              "\n",
              "  <div class=\"colab-df-container\">\n",
              "    <button class=\"colab-df-convert\" onclick=\"convertToInteractive('df-b0ea57fc-210b-49b2-96b3-c3651a141fea')\"\n",
              "            title=\"Convert this dataframe to an interactive table.\"\n",
              "            style=\"display:none;\">\n",
              "\n",
              "  <svg xmlns=\"http://www.w3.org/2000/svg\" height=\"24px\" viewBox=\"0 -960 960 960\">\n",
              "    <path d=\"M120-120v-720h720v720H120Zm60-500h600v-160H180v160Zm220 220h160v-160H400v160Zm0 220h160v-160H400v160ZM180-400h160v-160H180v160Zm440 0h160v-160H620v160ZM180-180h160v-160H180v160Zm440 0h160v-160H620v160Z\"/>\n",
              "  </svg>\n",
              "    </button>\n",
              "\n",
              "  <style>\n",
              "    .colab-df-container {\n",
              "      display:flex;\n",
              "      gap: 12px;\n",
              "    }\n",
              "\n",
              "    .colab-df-convert {\n",
              "      background-color: #E8F0FE;\n",
              "      border: none;\n",
              "      border-radius: 50%;\n",
              "      cursor: pointer;\n",
              "      display: none;\n",
              "      fill: #1967D2;\n",
              "      height: 32px;\n",
              "      padding: 0 0 0 0;\n",
              "      width: 32px;\n",
              "    }\n",
              "\n",
              "    .colab-df-convert:hover {\n",
              "      background-color: #E2EBFA;\n",
              "      box-shadow: 0px 1px 2px rgba(60, 64, 67, 0.3), 0px 1px 3px 1px rgba(60, 64, 67, 0.15);\n",
              "      fill: #174EA6;\n",
              "    }\n",
              "\n",
              "    .colab-df-buttons div {\n",
              "      margin-bottom: 4px;\n",
              "    }\n",
              "\n",
              "    [theme=dark] .colab-df-convert {\n",
              "      background-color: #3B4455;\n",
              "      fill: #D2E3FC;\n",
              "    }\n",
              "\n",
              "    [theme=dark] .colab-df-convert:hover {\n",
              "      background-color: #434B5C;\n",
              "      box-shadow: 0px 1px 3px 1px rgba(0, 0, 0, 0.15);\n",
              "      filter: drop-shadow(0px 1px 2px rgba(0, 0, 0, 0.3));\n",
              "      fill: #FFFFFF;\n",
              "    }\n",
              "  </style>\n",
              "\n",
              "    <script>\n",
              "      const buttonEl =\n",
              "        document.querySelector('#df-b0ea57fc-210b-49b2-96b3-c3651a141fea button.colab-df-convert');\n",
              "      buttonEl.style.display =\n",
              "        google.colab.kernel.accessAllowed ? 'block' : 'none';\n",
              "\n",
              "      async function convertToInteractive(key) {\n",
              "        const element = document.querySelector('#df-b0ea57fc-210b-49b2-96b3-c3651a141fea');\n",
              "        const dataTable =\n",
              "          await google.colab.kernel.invokeFunction('convertToInteractive',\n",
              "                                                    [key], {});\n",
              "        if (!dataTable) return;\n",
              "\n",
              "        const docLinkHtml = 'Like what you see? Visit the ' +\n",
              "          '<a target=\"_blank\" href=https://colab.research.google.com/notebooks/data_table.ipynb>data table notebook</a>'\n",
              "          + ' to learn more about interactive tables.';\n",
              "        element.innerHTML = '';\n",
              "        dataTable['output_type'] = 'display_data';\n",
              "        await google.colab.output.renderOutput(dataTable, element);\n",
              "        const docLink = document.createElement('div');\n",
              "        docLink.innerHTML = docLinkHtml;\n",
              "        element.appendChild(docLink);\n",
              "      }\n",
              "    </script>\n",
              "  </div>\n",
              "\n",
              "\n",
              "<div id=\"df-3c29d6b9-551b-4dec-a1c1-9864666b434f\">\n",
              "  <button class=\"colab-df-quickchart\" onclick=\"quickchart('df-3c29d6b9-551b-4dec-a1c1-9864666b434f')\"\n",
              "            title=\"Suggest charts.\"\n",
              "            style=\"display:none;\">\n",
              "\n",
              "<svg xmlns=\"http://www.w3.org/2000/svg\" height=\"24px\"viewBox=\"0 0 24 24\"\n",
              "     width=\"24px\">\n",
              "    <g>\n",
              "        <path d=\"M19 3H5c-1.1 0-2 .9-2 2v14c0 1.1.9 2 2 2h14c1.1 0 2-.9 2-2V5c0-1.1-.9-2-2-2zM9 17H7v-7h2v7zm4 0h-2V7h2v10zm4 0h-2v-4h2v4z\"/>\n",
              "    </g>\n",
              "</svg>\n",
              "  </button>\n",
              "\n",
              "<style>\n",
              "  .colab-df-quickchart {\n",
              "    background-color: #E8F0FE;\n",
              "    border: none;\n",
              "    border-radius: 50%;\n",
              "    cursor: pointer;\n",
              "    display: none;\n",
              "    fill: #1967D2;\n",
              "    height: 32px;\n",
              "    padding: 0 0 0 0;\n",
              "    width: 32px;\n",
              "  }\n",
              "\n",
              "  .colab-df-quickchart:hover {\n",
              "    background-color: #E2EBFA;\n",
              "    box-shadow: 0px 1px 2px rgba(60, 64, 67, 0.3), 0px 1px 3px 1px rgba(60, 64, 67, 0.15);\n",
              "    fill: #174EA6;\n",
              "  }\n",
              "\n",
              "  [theme=dark] .colab-df-quickchart {\n",
              "    background-color: #3B4455;\n",
              "    fill: #D2E3FC;\n",
              "  }\n",
              "\n",
              "  [theme=dark] .colab-df-quickchart:hover {\n",
              "    background-color: #434B5C;\n",
              "    box-shadow: 0px 1px 3px 1px rgba(0, 0, 0, 0.15);\n",
              "    filter: drop-shadow(0px 1px 2px rgba(0, 0, 0, 0.3));\n",
              "    fill: #FFFFFF;\n",
              "  }\n",
              "</style>\n",
              "\n",
              "  <script>\n",
              "    async function quickchart(key) {\n",
              "      const charts = await google.colab.kernel.invokeFunction(\n",
              "          'suggestCharts', [key], {});\n",
              "    }\n",
              "    (() => {\n",
              "      let quickchartButtonEl =\n",
              "        document.querySelector('#df-3c29d6b9-551b-4dec-a1c1-9864666b434f button');\n",
              "      quickchartButtonEl.style.display =\n",
              "        google.colab.kernel.accessAllowed ? 'block' : 'none';\n",
              "    })();\n",
              "  </script>\n",
              "</div>\n",
              "    </div>\n",
              "  </div>\n"
            ]
          },
          "metadata": {},
          "execution_count": 1
        }
      ]
    },
    {
      "cell_type": "markdown",
      "source": [
        "None of the entries have null values. All the columns are import so we will not drop any rows or columns. Also the labels are in text so we will change them to numeric form."
      ],
      "metadata": {
        "id": "CLlN3X3JM9-7"
      }
    },
    {
      "cell_type": "code",
      "source": [
        "#We split the data using value_counts(). It seperates the different data.\n",
        "import matplotlib.pyplot as plt\n",
        "count = \"\"\n",
        "count = df[\"label\"].value_counts()\n",
        "\n",
        "print(count)\n",
        "\n",
        "#autocpt provides us with the percentage values\n",
        "count.plot(kind = 'bar')\n",
        "plt.ylabel(\"Crops\")\n",
        "\n",
        "print(f\"No of different crops are {len(count)}\")"
      ],
      "metadata": {
        "colab": {
          "base_uri": "https://localhost:8080/",
          "height": 927
        },
        "id": "aIkPVw7VNOPA",
        "outputId": "6bd97143-d43a-4544-85fc-c7e8dd06a19b"
      },
      "execution_count": 2,
      "outputs": [
        {
          "output_type": "stream",
          "name": "stdout",
          "text": [
            "rice           100\n",
            "maize          100\n",
            "jute           100\n",
            "cotton         100\n",
            "coconut        100\n",
            "papaya         100\n",
            "orange         100\n",
            "apple          100\n",
            "muskmelon      100\n",
            "watermelon     100\n",
            "grapes         100\n",
            "mango          100\n",
            "banana         100\n",
            "pomegranate    100\n",
            "lentil         100\n",
            "blackgram      100\n",
            "mungbean       100\n",
            "mothbeans      100\n",
            "pigeonpeas     100\n",
            "kidneybeans    100\n",
            "chickpea       100\n",
            "coffee         100\n",
            "Name: label, dtype: int64\n",
            "No of different crops are 22\n"
          ]
        },
        {
          "output_type": "display_data",
          "data": {
            "text/plain": [
              "<Figure size 640x480 with 1 Axes>"
            ],
            "image/png": "[encoded data removed]"
          },
          "metadata": {}
        }
      ]
    },
    {
      "cell_type": "markdown",
      "source": [
        "From the above graph we know that there are 22 different types of crops and there are a 100 entires of each so we don't need any upscaling or downscaling. However the names of the data are in text form so we will convert it to integer form."
      ],
      "metadata": {
        "id": "M3VqU_GSNnuQ"
      }
    },
    {
      "cell_type": "code",
      "source": [
        "#Getting list of all crops\n",
        "crops = count.index.tolist()\n",
        "\n",
        "#I have converted all of the crops into codes\n",
        "df['label'] = df['label'].astype('category')\n",
        "df['label_codes'] = df['label'].cat.codes\n",
        "\n",
        "#Creating a dictionary so I can decode the data in the future\n",
        "unique_categories = df['label'].cat.categories\n",
        "label_mapping = dict(zip(range(len(unique_categories)), unique_categories))\n",
        "\n",
        "df.info()"
      ],
      "metadata": {
        "colab": {
          "base_uri": "https://localhost:8080/"
        },
        "id": "LqNOTqJKONOf",
        "outputId": "7476462d-67cf-443f-840b-98a1825f00af"
      },
      "execution_count": 3,
      "outputs": [
        {
          "output_type": "stream",
          "name": "stdout",
          "text": [
            "<class 'pandas.core.frame.DataFrame'>\n",
            "RangeIndex: 2200 entries, 0 to 2199\n",
            "Data columns (total 9 columns):\n",
            " #   Column       Non-Null Count  Dtype   \n",
            "---  ------       --------------  -----   \n",
            " 0   N            2200 non-null   int64   \n",
            " 1   P            2200 non-null   int64   \n",
            " 2   K            2200 non-null   int64   \n",
            " 3   temperature  2200 non-null   float64 \n",
            " 4   humidity     2200 non-null   float64 \n",
            " 5   ph           2200 non-null   float64 \n",
            " 6   rainfall     2200 non-null   float64 \n",
            " 7   label        2200 non-null   category\n",
            " 8   label_codes  2200 non-null   int8    \n",
            "dtypes: category(1), float64(4), int64(3), int8(1)\n",
            "memory usage: 125.4 KB\n"
          ]
        }
      ]
    },
    {
      "cell_type": "markdown",
      "source": [
        "Splitting data into test and train"
      ],
      "metadata": {
        "id": "UHAeuoptWMzT"
      }
    },
    {
      "cell_type": "code",
      "source": [
        "#This is the input. All columns except the not.full.paid\n",
        "X = df.drop(['label', 'label_codes'],axis=1)\n",
        "#not.full.paid is the output\n",
        "y = df['label_codes']\n",
        "\n",
        "from sklearn.model_selection import train_test_split\n",
        "\n",
        "X_train, X_test, y_train, y_test = train_test_split(X, y, test_size=0.3, random_state=0)"
      ],
      "metadata": {
        "id": "WYJuFJ2UWMDV"
      },
      "execution_count": 4,
      "outputs": []
    },
    {
      "cell_type": "markdown",
      "source": [
        "# Fit classification models\n",
        "We will be using\n",
        "\n",
        "\n",
        "1.   Random Forest Clasifier\n",
        "2.   Multinomial Naive Bayes\n",
        "3.   K-Nearest Neighbours\n",
        "4.   Gradient Boosting"
      ],
      "metadata": {
        "id": "5C_A-6c7UvOz"
      }
    },
    {
      "cell_type": "markdown",
      "source": [
        "Importing libraries"
      ],
      "metadata": {
        "id": "czqjWBVhY2fn"
      }
    },
    {
      "cell_type": "code",
      "source": [
        "from sklearn.metrics import accuracy_score\n",
        "from sklearn.metrics import classification_report\n",
        "from sklearn.model_selection import cross_val_score"
      ],
      "metadata": {
        "id": "4ghAe6bBY4Lh"
      },
      "execution_count": 5,
      "outputs": []
    },
    {
      "cell_type": "markdown",
      "source": [
        "## Random Forest Classifier"
      ],
      "metadata": {
        "id": "dDyuThZzXIuc"
      }
    },
    {
      "cell_type": "code",
      "source": [
        "from sklearn.ensemble import RandomForestClassifier\n",
        "\n",
        "rf_classifier = RandomForestClassifier(n_estimators=1000, random_state=42)\n",
        "rf_classifier.fit(X_train, y_train)"
      ],
      "metadata": {
        "colab": {
          "base_uri": "https://localhost:8080/",
          "height": 74
        },
        "id": "zYX00rQzXHKQ",
        "outputId": "7820fd9a-71f0-4b72-d5fe-04b8b7488f14"
      },
      "execution_count": 6,
      "outputs": [
        {
          "output_type": "execute_result",
          "data": {
            "text/plain": [
              "RandomForestClassifier(n_estimators=1000, random_state=42)"
            ],
            "text/html": [
              "<style>#sk-container-id-1 {color: black;background-color: white;}#sk-container-id-1 pre{padding: 0;}#sk-container-id-1 div.sk-toggleable {background-color: white;}#sk-container-id-1 label.sk-toggleable__label {cursor: pointer;display: block;width: 100%;margin-bottom: 0;padding: 0.3em;box-sizing: border-box;text-align: center;}#sk-container-id-1 label.sk-toggleable__label-arrow:before {content: \"▸\";float: left;margin-right: 0.25em;color: #696969;}#sk-container-id-1 label.sk-toggleable__label-arrow:hover:before {color: black;}#sk-container-id-1 div.sk-estimator:hover label.sk-toggleable__label-arrow:before {color: black;}#sk-container-id-1 div.sk-toggleable__content {max-height: 0;max-width: 0;overflow: hidden;text-align: left;background-color: #f0f8ff;}#sk-container-id-1 div.sk-toggleable__content pre {margin: 0.2em;color: black;border-radius: 0.25em;background-color: #f0f8ff;}#sk-container-id-1 input.sk-toggleable__control:checked~div.sk-toggleable__content {max-height: 200px;max-width: 100%;overflow: auto;}#sk-container-id-1 input.sk-toggleable__control:checked~label.sk-toggleable__label-arrow:before {content: \"▾\";}#sk-container-id-1 div.sk-estimator input.sk-toggleable__control:checked~label.sk-toggleable__label {background-color: #d4ebff;}#sk-container-id-1 div.sk-label input.sk-toggleable__control:checked~label.sk-toggleable__label {background-color: #d4ebff;}#sk-container-id-1 input.sk-hidden--visually {border: 0;clip: rect(1px 1px 1px 1px);clip: rect(1px, 1px, 1px, 1px);height: 1px;margin: -1px;overflow: hidden;padding: 0;position: absolute;width: 1px;}#sk-container-id-1 div.sk-estimator {font-family: monospace;background-color: #f0f8ff;border: 1px dotted black;border-radius: 0.25em;box-sizing: border-box;margin-bottom: 0.5em;}#sk-container-id-1 div.sk-estimator:hover {background-color: #d4ebff;}#sk-container-id-1 div.sk-parallel-item::after {content: \"\";width: 100%;border-bottom: 1px solid gray;flex-grow: 1;}#sk-container-id-1 div.sk-label:hover label.sk-toggleable__label {background-color: #d4ebff;}#sk-container-id-1 div.sk-serial::before {content: \"\";position: absolute;border-left: 1px solid gray;box-sizing: border-box;top: 0;bottom: 0;left: 50%;z-index: 0;}#sk-container-id-1 div.sk-serial {display: flex;flex-direction: column;align-items: center;background-color: white;padding-right: 0.2em;padding-left: 0.2em;position: relative;}#sk-container-id-1 div.sk-item {position: relative;z-index: 1;}#sk-container-id-1 div.sk-parallel {display: flex;align-items: stretch;justify-content: center;background-color: white;position: relative;}#sk-container-id-1 div.sk-item::before, #sk-container-id-1 div.sk-parallel-item::before {content: \"\";position: absolute;border-left: 1px solid gray;box-sizing: border-box;top: 0;bottom: 0;left: 50%;z-index: -1;}#sk-container-id-1 div.sk-parallel-item {display: flex;flex-direction: column;z-index: 1;position: relative;background-color: white;}#sk-container-id-1 div.sk-parallel-item:first-child::after {align-self: flex-end;width: 50%;}#sk-container-id-1 div.sk-parallel-item:last-child::after {align-self: flex-start;width: 50%;}#sk-container-id-1 div.sk-parallel-item:only-child::after {width: 0;}#sk-container-id-1 div.sk-dashed-wrapped {border: 1px dashed gray;margin: 0 0.4em 0.5em 0.4em;box-sizing: border-box;padding-bottom: 0.4em;background-color: white;}#sk-container-id-1 div.sk-label label {font-family: monospace;font-weight: bold;display: inline-block;line-height: 1.2em;}#sk-container-id-1 div.sk-label-container {text-align: center;}#sk-container-id-1 div.sk-container {/* jupyter's `normalize.less` sets `[hidden] { display: none; }` but bootstrap.min.css set `[hidden] { display: none !important; }` so we also need the `!important` here to be able to override the default hidden behavior on the sphinx rendered scikit-learn.org. See: https://github.com/scikit-learn/scikit-learn/issues/21755 */display: inline-block !important;position: relative;}#sk-container-id-1 div.sk-text-repr-fallback {display: none;}</style><div id=\"sk-container-id-1\" class=\"sk-top-container\"><div class=\"sk-text-repr-fallback\"><pre>RandomForestClassifier(n_estimators=1000, random_state=42)</pre><b>In a Jupyter environment, please rerun this cell to show the HTML representation or trust the notebook. <br />On GitHub, the HTML representation is unable to render, please try loading this page with nbviewer.org.</b></div><div class=\"sk-container\" hidden><div class=\"sk-item\"><div class=\"sk-estimator sk-toggleable\"><input class=\"sk-toggleable__control sk-hidden--visually\" id=\"sk-estimator-id-1\" type=\"checkbox\" checked><label for=\"sk-estimator-id-1\" class=\"sk-toggleable__label sk-toggleable__label-arrow\">RandomForestClassifier</label><div class=\"sk-toggleable__content\"><pre>RandomForestClassifier(n_estimators=1000, random_state=42)</pre></div></div></div></div></div>"
            ]
          },
          "metadata": {},
          "execution_count": 6
        }
      ]
    },
    {
      "cell_type": "markdown",
      "source": [
        "Predicting the test data and evaluating the model accuracy and generating the classification report(cost of FP=FN).\n",
        "Did cross validation score as the accuracy was way too high."
      ],
      "metadata": {
        "id": "HaVusM7oYUqG"
      }
    },
    {
      "cell_type": "code",
      "source": [
        "y_pred = rf_classifier.predict(X_test)\n",
        "print(accuracy_score(y_test, y_pred))\n",
        "print(classification_report(y_test,y_pred))\n",
        "scores = cross_val_score(rf_classifier, X, y, cv=5)\n",
        "print(\"Accuracy Mean:\", scores.mean())\n",
        "print(\"Accuracy Standard Deviation:\", scores.std())"
      ],
      "metadata": {
        "colab": {
          "base_uri": "https://localhost:8080/"
        },
        "id": "DihXf39WXdC4",
        "outputId": "1c029b3e-a70c-45e1-c9f0-c7a1d360490b"
      },
      "execution_count": 7,
      "outputs": [
        {
          "output_type": "stream",
          "name": "stdout",
          "text": [
            "0.9954545454545455\n",
            "              precision    recall  f1-score   support\n",
            "\n",
            "           0       1.00      1.00      1.00        28\n",
            "           1       1.00      1.00      1.00        30\n",
            "           2       1.00      0.97      0.98        31\n",
            "           3       1.00      1.00      1.00        34\n",
            "           4       1.00      1.00      1.00        26\n",
            "           5       1.00      1.00      1.00        29\n",
            "           6       1.00      1.00      1.00        28\n",
            "           7       1.00      1.00      1.00        30\n",
            "           8       0.97      0.97      0.97        31\n",
            "           9       1.00      1.00      1.00        26\n",
            "          10       1.00      1.00      1.00        22\n",
            "          11       0.96      1.00      0.98        27\n",
            "          12       1.00      1.00      1.00        28\n",
            "          13       1.00      1.00      1.00        36\n",
            "          14       1.00      1.00      1.00        29\n",
            "          15       1.00      1.00      1.00        30\n",
            "          16       1.00      1.00      1.00        34\n",
            "          17       1.00      1.00      1.00        39\n",
            "          18       1.00      1.00      1.00        28\n",
            "          19       1.00      1.00      1.00        32\n",
            "          20       0.97      0.97      0.97        37\n",
            "          21       1.00      1.00      1.00        25\n",
            "\n",
            "    accuracy                           1.00       660\n",
            "   macro avg       1.00      1.00      1.00       660\n",
            "weighted avg       1.00      1.00      1.00       660\n",
            "\n",
            "Accuracy Mean: 0.9936363636363638\n",
            "Accuracy Standard Deviation: 0.003910147848655748\n"
          ]
        }
      ]
    },
    {
      "cell_type": "markdown",
      "source": [
        "Hyper parameter testing.\n",
        "As I thoight the data was either over fitted or there was a data leak I re evaluated the train testing spliting process and also checked for hyper parameter testing."
      ],
      "metadata": {
        "id": "EtT1otKibaRU"
      }
    },
    {
      "cell_type": "code",
      "source": [
        "for n_estimators in range(5,150):\n",
        "    rf_classifier = RandomForestClassifier(n_estimators=n_estimators, random_state=42)\n",
        "    scores = cross_val_score(rf_classifier, X_train, y_train, cv=5)\n",
        "    mean_accuracy = scores.mean()\n",
        "    print(f\"Number of Estimators: {n_estimators}, Mean Accuracy: {mean_accuracy}\")"
      ],
      "metadata": {
        "colab": {
          "base_uri": "https://localhost:8080/"
        },
        "id": "f5hBhRs0bcR_",
        "outputId": "51f423f6-8c15-40f9-92aa-44c3bcf44822"
      },
      "execution_count": 8,
      "outputs": [
        {
          "output_type": "stream",
          "name": "stdout",
          "text": [
            "Number of Estimators: 5, Mean Accuracy: 0.985064935064935\n",
            "Number of Estimators: 6, Mean Accuracy: 0.9831168831168832\n",
            "Number of Estimators: 7, Mean Accuracy: 0.9870129870129869\n",
            "Number of Estimators: 8, Mean Accuracy: 0.9876623376623377\n",
            "Number of Estimators: 9, Mean Accuracy: 0.9935064935064937\n",
            "Number of Estimators: 10, Mean Accuracy: 0.9922077922077921\n",
            "Number of Estimators: 11, Mean Accuracy: 0.9941558441558442\n",
            "Number of Estimators: 12, Mean Accuracy: 0.9935064935064937\n",
            "Number of Estimators: 13, Mean Accuracy: 0.9941558441558442\n",
            "Number of Estimators: 14, Mean Accuracy: 0.9941558441558442\n",
            "Number of Estimators: 15, Mean Accuracy: 0.9954545454545454\n",
            "Number of Estimators: 16, Mean Accuracy: 0.996103896103896\n",
            "Number of Estimators: 17, Mean Accuracy: 0.9954545454545454\n",
            "Number of Estimators: 18, Mean Accuracy: 0.996103896103896\n",
            "Number of Estimators: 19, Mean Accuracy: 0.996103896103896\n",
            "Number of Estimators: 20, Mean Accuracy: 0.996103896103896\n",
            "Number of Estimators: 21, Mean Accuracy: 0.996103896103896\n",
            "Number of Estimators: 22, Mean Accuracy: 0.9954545454545454\n",
            "Number of Estimators: 23, Mean Accuracy: 0.9954545454545454\n",
            "Number of Estimators: 24, Mean Accuracy: 0.9954545454545454\n",
            "Number of Estimators: 25, Mean Accuracy: 0.9954545454545454\n",
            "Number of Estimators: 26, Mean Accuracy: 0.9954545454545454\n",
            "Number of Estimators: 27, Mean Accuracy: 0.996103896103896\n",
            "Number of Estimators: 28, Mean Accuracy: 0.9954545454545454\n",
            "Number of Estimators: 29, Mean Accuracy: 0.9948051948051948\n",
            "Number of Estimators: 30, Mean Accuracy: 0.9948051948051948\n",
            "Number of Estimators: 31, Mean Accuracy: 0.9954545454545454\n",
            "Number of Estimators: 32, Mean Accuracy: 0.9954545454545454\n",
            "Number of Estimators: 33, Mean Accuracy: 0.9954545454545454\n",
            "Number of Estimators: 34, Mean Accuracy: 0.9954545454545454\n",
            "Number of Estimators: 35, Mean Accuracy: 0.9954545454545454\n",
            "Number of Estimators: 36, Mean Accuracy: 0.9954545454545454\n",
            "Number of Estimators: 37, Mean Accuracy: 0.9954545454545454\n",
            "Number of Estimators: 38, Mean Accuracy: 0.9954545454545454\n",
            "Number of Estimators: 39, Mean Accuracy: 0.9954545454545454\n",
            "Number of Estimators: 40, Mean Accuracy: 0.9948051948051948\n",
            "Number of Estimators: 41, Mean Accuracy: 0.9954545454545454\n",
            "Number of Estimators: 42, Mean Accuracy: 0.9954545454545454\n",
            "Number of Estimators: 43, Mean Accuracy: 0.9954545454545454\n",
            "Number of Estimators: 44, Mean Accuracy: 0.9948051948051948\n",
            "Number of Estimators: 45, Mean Accuracy: 0.9954545454545454\n",
            "Number of Estimators: 46, Mean Accuracy: 0.9954545454545454\n",
            "Number of Estimators: 47, Mean Accuracy: 0.9954545454545454\n",
            "Number of Estimators: 48, Mean Accuracy: 0.9948051948051948\n",
            "Number of Estimators: 49, Mean Accuracy: 0.9954545454545454\n",
            "Number of Estimators: 50, Mean Accuracy: 0.9954545454545454\n",
            "Number of Estimators: 51, Mean Accuracy: 0.996103896103896\n",
            "Number of Estimators: 52, Mean Accuracy: 0.996103896103896\n",
            "Number of Estimators: 53, Mean Accuracy: 0.996103896103896\n",
            "Number of Estimators: 54, Mean Accuracy: 0.9954545454545454\n",
            "Number of Estimators: 55, Mean Accuracy: 0.996103896103896\n",
            "Number of Estimators: 56, Mean Accuracy: 0.996103896103896\n",
            "Number of Estimators: 57, Mean Accuracy: 0.996103896103896\n",
            "Number of Estimators: 58, Mean Accuracy: 0.9954545454545454\n",
            "Number of Estimators: 59, Mean Accuracy: 0.9954545454545454\n",
            "Number of Estimators: 60, Mean Accuracy: 0.9948051948051948\n",
            "Number of Estimators: 61, Mean Accuracy: 0.9948051948051948\n",
            "Number of Estimators: 62, Mean Accuracy: 0.9941558441558442\n",
            "Number of Estimators: 63, Mean Accuracy: 0.9948051948051948\n",
            "Number of Estimators: 64, Mean Accuracy: 0.9948051948051948\n",
            "Number of Estimators: 65, Mean Accuracy: 0.9948051948051948\n",
            "Number of Estimators: 66, Mean Accuracy: 0.9948051948051948\n",
            "Number of Estimators: 67, Mean Accuracy: 0.9954545454545454\n",
            "Number of Estimators: 68, Mean Accuracy: 0.9948051948051948\n",
            "Number of Estimators: 69, Mean Accuracy: 0.9954545454545454\n",
            "Number of Estimators: 70, Mean Accuracy: 0.9954545454545454\n",
            "Number of Estimators: 71, Mean Accuracy: 0.9948051948051948\n",
            "Number of Estimators: 72, Mean Accuracy: 0.9948051948051948\n",
            "Number of Estimators: 73, Mean Accuracy: 0.9948051948051948\n",
            "Number of Estimators: 74, Mean Accuracy: 0.9948051948051948\n",
            "Number of Estimators: 75, Mean Accuracy: 0.9948051948051948\n",
            "Number of Estimators: 76, Mean Accuracy: 0.9948051948051948\n",
            "Number of Estimators: 77, Mean Accuracy: 0.9954545454545454\n",
            "Number of Estimators: 78, Mean Accuracy: 0.9948051948051948\n",
            "Number of Estimators: 79, Mean Accuracy: 0.9948051948051948\n",
            "Number of Estimators: 80, Mean Accuracy: 0.9948051948051948\n",
            "Number of Estimators: 81, Mean Accuracy: 0.9948051948051948\n",
            "Number of Estimators: 82, Mean Accuracy: 0.9948051948051948\n",
            "Number of Estimators: 83, Mean Accuracy: 0.9948051948051948\n",
            "Number of Estimators: 84, Mean Accuracy: 0.9948051948051948\n",
            "Number of Estimators: 85, Mean Accuracy: 0.9954545454545454\n",
            "Number of Estimators: 86, Mean Accuracy: 0.9954545454545454\n",
            "Number of Estimators: 87, Mean Accuracy: 0.9954545454545454\n",
            "Number of Estimators: 88, Mean Accuracy: 0.9954545454545454\n",
            "Number of Estimators: 89, Mean Accuracy: 0.9954545454545454\n",
            "Number of Estimators: 90, Mean Accuracy: 0.9954545454545454\n",
            "Number of Estimators: 91, Mean Accuracy: 0.9954545454545454\n",
            "Number of Estimators: 92, Mean Accuracy: 0.9954545454545454\n",
            "Number of Estimators: 93, Mean Accuracy: 0.9954545454545454\n",
            "Number of Estimators: 94, Mean Accuracy: 0.9954545454545454\n",
            "Number of Estimators: 95, Mean Accuracy: 0.9954545454545454\n",
            "Number of Estimators: 96, Mean Accuracy: 0.9954545454545454\n",
            "Number of Estimators: 97, Mean Accuracy: 0.9954545454545454\n",
            "Number of Estimators: 98, Mean Accuracy: 0.9954545454545454\n",
            "Number of Estimators: 99, Mean Accuracy: 0.9954545454545454\n",
            "Number of Estimators: 100, Mean Accuracy: 0.9948051948051948\n",
            "Number of Estimators: 101, Mean Accuracy: 0.9954545454545454\n",
            "Number of Estimators: 102, Mean Accuracy: 0.9948051948051948\n",
            "Number of Estimators: 103, Mean Accuracy: 0.9954545454545454\n",
            "Number of Estimators: 104, Mean Accuracy: 0.9948051948051948\n",
            "Number of Estimators: 105, Mean Accuracy: 0.9954545454545454\n",
            "Number of Estimators: 106, Mean Accuracy: 0.9954545454545454\n",
            "Number of Estimators: 107, Mean Accuracy: 0.9954545454545454\n",
            "Number of Estimators: 108, Mean Accuracy: 0.9948051948051948\n",
            "Number of Estimators: 109, Mean Accuracy: 0.9948051948051948\n",
            "Number of Estimators: 110, Mean Accuracy: 0.9948051948051948\n",
            "Number of Estimators: 111, Mean Accuracy: 0.9941558441558442\n",
            "Number of Estimators: 112, Mean Accuracy: 0.9948051948051948\n",
            "Number of Estimators: 113, Mean Accuracy: 0.9941558441558442\n",
            "Number of Estimators: 114, Mean Accuracy: 0.9954545454545454\n",
            "Number of Estimators: 115, Mean Accuracy: 0.9941558441558442\n",
            "Number of Estimators: 116, Mean Accuracy: 0.9948051948051948\n",
            "Number of Estimators: 117, Mean Accuracy: 0.9948051948051948\n",
            "Number of Estimators: 118, Mean Accuracy: 0.9948051948051948\n",
            "Number of Estimators: 119, Mean Accuracy: 0.9954545454545454\n",
            "Number of Estimators: 120, Mean Accuracy: 0.9954545454545454\n",
            "Number of Estimators: 121, Mean Accuracy: 0.9954545454545454\n",
            "Number of Estimators: 122, Mean Accuracy: 0.9954545454545454\n",
            "Number of Estimators: 123, Mean Accuracy: 0.9941558441558442\n",
            "Number of Estimators: 124, Mean Accuracy: 0.9941558441558442\n",
            "Number of Estimators: 125, Mean Accuracy: 0.9941558441558442\n",
            "Number of Estimators: 126, Mean Accuracy: 0.9941558441558442\n",
            "Number of Estimators: 127, Mean Accuracy: 0.9941558441558442\n",
            "Number of Estimators: 128, Mean Accuracy: 0.9941558441558442\n",
            "Number of Estimators: 129, Mean Accuracy: 0.9941558441558442\n",
            "Number of Estimators: 130, Mean Accuracy: 0.9941558441558442\n",
            "Number of Estimators: 131, Mean Accuracy: 0.9941558441558442\n",
            "Number of Estimators: 132, Mean Accuracy: 0.9941558441558442\n",
            "Number of Estimators: 133, Mean Accuracy: 0.9941558441558442\n",
            "Number of Estimators: 134, Mean Accuracy: 0.9941558441558442\n",
            "Number of Estimators: 135, Mean Accuracy: 0.9941558441558442\n",
            "Number of Estimators: 136, Mean Accuracy: 0.9941558441558442\n",
            "Number of Estimators: 137, Mean Accuracy: 0.9941558441558442\n",
            "Number of Estimators: 138, Mean Accuracy: 0.9941558441558442\n",
            "Number of Estimators: 139, Mean Accuracy: 0.9941558441558442\n",
            "Number of Estimators: 140, Mean Accuracy: 0.9941558441558442\n",
            "Number of Estimators: 141, Mean Accuracy: 0.9941558441558442\n",
            "Number of Estimators: 142, Mean Accuracy: 0.9941558441558442\n",
            "Number of Estimators: 143, Mean Accuracy: 0.9941558441558442\n",
            "Number of Estimators: 144, Mean Accuracy: 0.9941558441558442\n",
            "Number of Estimators: 145, Mean Accuracy: 0.9941558441558442\n",
            "Number of Estimators: 146, Mean Accuracy: 0.9941558441558442\n",
            "Number of Estimators: 147, Mean Accuracy: 0.9941558441558442\n",
            "Number of Estimators: 148, Mean Accuracy: 0.9941558441558442\n",
            "Number of Estimators: 149, Mean Accuracy: 0.9941558441558442\n"
          ]
        }
      ]
    },
    {
      "cell_type": "markdown",
      "source": [
        "I will finally go with 100 estimators as I have conclueded that the chances of overfitting as very less and there is no data leak."
      ],
      "metadata": {
        "id": "i3jJ1yOkd7Eg"
      }
    },
    {
      "cell_type": "code",
      "source": [
        "from sklearn.ensemble import RandomForestClassifier\n",
        "\n",
        "rf_classifier = RandomForestClassifier(n_estimators=100, random_state=34)\n",
        "rf_classifier.fit(X_train, y_train)\n",
        "\n",
        "y_pred = rf_classifier.predict(X_test)\n",
        "print(accuracy_score(y_test, y_pred))\n",
        "print(classification_report(y_test,y_pred))\n",
        "scores = cross_val_score(rf_classifier, X, y, cv=5)\n",
        "print(\"Accuracy Mean:\", scores.mean())\n",
        "print(\"Accuracy Standard Deviation:\", scores.std())"
      ],
      "metadata": {
        "colab": {
          "base_uri": "https://localhost:8080/"
        },
        "id": "69mOKbnUeEMY",
        "outputId": "1b8efe37-63b2-4e66-f482-67acff1196ee"
      },
      "execution_count": 9,
      "outputs": [
        {
          "output_type": "stream",
          "name": "stdout",
          "text": [
            "0.9954545454545455\n",
            "              precision    recall  f1-score   support\n",
            "\n",
            "           0       1.00      1.00      1.00        28\n",
            "           1       1.00      1.00      1.00        30\n",
            "           2       1.00      0.97      0.98        31\n",
            "           3       1.00      1.00      1.00        34\n",
            "           4       1.00      1.00      1.00        26\n",
            "           5       1.00      1.00      1.00        29\n",
            "           6       1.00      1.00      1.00        28\n",
            "           7       1.00      1.00      1.00        30\n",
            "           8       0.97      0.97      0.97        31\n",
            "           9       1.00      1.00      1.00        26\n",
            "          10       1.00      1.00      1.00        22\n",
            "          11       0.96      1.00      0.98        27\n",
            "          12       1.00      1.00      1.00        28\n",
            "          13       1.00      1.00      1.00        36\n",
            "          14       1.00      1.00      1.00        29\n",
            "          15       1.00      1.00      1.00        30\n",
            "          16       1.00      1.00      1.00        34\n",
            "          17       1.00      1.00      1.00        39\n",
            "          18       1.00      1.00      1.00        28\n",
            "          19       1.00      1.00      1.00        32\n",
            "          20       0.97      0.97      0.97        37\n",
            "          21       1.00      1.00      1.00        25\n",
            "\n",
            "    accuracy                           1.00       660\n",
            "   macro avg       1.00      1.00      1.00       660\n",
            "weighted avg       1.00      1.00      1.00       660\n",
            "\n",
            "Accuracy Mean: 0.9936363636363638\n",
            "Accuracy Standard Deviation: 0.002650432679475144\n"
          ]
        }
      ]
    },
    {
      "cell_type": "markdown",
      "source": [
        "## Multinomial Naive Bayes"
      ],
      "metadata": {
        "id": "s8_-K9HXYqkk"
      }
    },
    {
      "cell_type": "code",
      "source": [
        "from sklearn.naive_bayes import MultinomialNB\n",
        "\n",
        "nb_classifier = MultinomialNB()\n",
        "nb_classifier.fit(X_train, y_train)"
      ],
      "metadata": {
        "colab": {
          "base_uri": "https://localhost:8080/",
          "height": 74
        },
        "id": "5prZg-NQY6S4",
        "outputId": "888b1791-cbe0-40dc-8500-e313e58c6f67"
      },
      "execution_count": 10,
      "outputs": [
        {
          "output_type": "execute_result",
          "data": {
            "text/plain": [
              "MultinomialNB()"
            ],
            "text/html": [
              "<style>#sk-container-id-2 {color: black;background-color: white;}#sk-container-id-2 pre{padding: 0;}#sk-container-id-2 div.sk-toggleable {background-color: white;}#sk-container-id-2 label.sk-toggleable__label {cursor: pointer;display: block;width: 100%;margin-bottom: 0;padding: 0.3em;box-sizing: border-box;text-align: center;}#sk-container-id-2 label.sk-toggleable__label-arrow:before {content: \"▸\";float: left;margin-right: 0.25em;color: #696969;}#sk-container-id-2 label.sk-toggleable__label-arrow:hover:before {color: black;}#sk-container-id-2 div.sk-estimator:hover label.sk-toggleable__label-arrow:before {color: black;}#sk-container-id-2 div.sk-toggleable__content {max-height: 0;max-width: 0;overflow: hidden;text-align: left;background-color: #f0f8ff;}#sk-container-id-2 div.sk-toggleable__content pre {margin: 0.2em;color: black;border-radius: 0.25em;background-color: #f0f8ff;}#sk-container-id-2 input.sk-toggleable__control:checked~div.sk-toggleable__content {max-height: 200px;max-width: 100%;overflow: auto;}#sk-container-id-2 input.sk-toggleable__control:checked~label.sk-toggleable__label-arrow:before {content: \"▾\";}#sk-container-id-2 div.sk-estimator input.sk-toggleable__control:checked~label.sk-toggleable__label {background-color: #d4ebff;}#sk-container-id-2 div.sk-label input.sk-toggleable__control:checked~label.sk-toggleable__label {background-color: #d4ebff;}#sk-container-id-2 input.sk-hidden--visually {border: 0;clip: rect(1px 1px 1px 1px);clip: rect(1px, 1px, 1px, 1px);height: 1px;margin: -1px;overflow: hidden;padding: 0;position: absolute;width: 1px;}#sk-container-id-2 div.sk-estimator {font-family: monospace;background-color: #f0f8ff;border: 1px dotted black;border-radius: 0.25em;box-sizing: border-box;margin-bottom: 0.5em;}#sk-container-id-2 div.sk-estimator:hover {background-color: #d4ebff;}#sk-container-id-2 div.sk-parallel-item::after {content: \"\";width: 100%;border-bottom: 1px solid gray;flex-grow: 1;}#sk-container-id-2 div.sk-label:hover label.sk-toggleable__label {background-color: #d4ebff;}#sk-container-id-2 div.sk-serial::before {content: \"\";position: absolute;border-left: 1px solid gray;box-sizing: border-box;top: 0;bottom: 0;left: 50%;z-index: 0;}#sk-container-id-2 div.sk-serial {display: flex;flex-direction: column;align-items: center;background-color: white;padding-right: 0.2em;padding-left: 0.2em;position: relative;}#sk-container-id-2 div.sk-item {position: relative;z-index: 1;}#sk-container-id-2 div.sk-parallel {display: flex;align-items: stretch;justify-content: center;background-color: white;position: relative;}#sk-container-id-2 div.sk-item::before, #sk-container-id-2 div.sk-parallel-item::before {content: \"\";position: absolute;border-left: 1px solid gray;box-sizing: border-box;top: 0;bottom: 0;left: 50%;z-index: -1;}#sk-container-id-2 div.sk-parallel-item {display: flex;flex-direction: column;z-index: 1;position: relative;background-color: white;}#sk-container-id-2 div.sk-parallel-item:first-child::after {align-self: flex-end;width: 50%;}#sk-container-id-2 div.sk-parallel-item:last-child::after {align-self: flex-start;width: 50%;}#sk-container-id-2 div.sk-parallel-item:only-child::after {width: 0;}#sk-container-id-2 div.sk-dashed-wrapped {border: 1px dashed gray;margin: 0 0.4em 0.5em 0.4em;box-sizing: border-box;padding-bottom: 0.4em;background-color: white;}#sk-container-id-2 div.sk-label label {font-family: monospace;font-weight: bold;display: inline-block;line-height: 1.2em;}#sk-container-id-2 div.sk-label-container {text-align: center;}#sk-container-id-2 div.sk-container {/* jupyter's `normalize.less` sets `[hidden] { display: none; }` but bootstrap.min.css set `[hidden] { display: none !important; }` so we also need the `!important` here to be able to override the default hidden behavior on the sphinx rendered scikit-learn.org. See: https://github.com/scikit-learn/scikit-learn/issues/21755 */display: inline-block !important;position: relative;}#sk-container-id-2 div.sk-text-repr-fallback {display: none;}</style><div id=\"sk-container-id-2\" class=\"sk-top-container\"><div class=\"sk-text-repr-fallback\"><pre>MultinomialNB()</pre><b>In a Jupyter environment, please rerun this cell to show the HTML representation or trust the notebook. <br />On GitHub, the HTML representation is unable to render, please try loading this page with nbviewer.org.</b></div><div class=\"sk-container\" hidden><div class=\"sk-item\"><div class=\"sk-estimator sk-toggleable\"><input class=\"sk-toggleable__control sk-hidden--visually\" id=\"sk-estimator-id-2\" type=\"checkbox\" checked><label for=\"sk-estimator-id-2\" class=\"sk-toggleable__label sk-toggleable__label-arrow\">MultinomialNB</label><div class=\"sk-toggleable__content\"><pre>MultinomialNB()</pre></div></div></div></div></div>"
            ]
          },
          "metadata": {},
          "execution_count": 10
        }
      ]
    },
    {
      "cell_type": "markdown",
      "source": [
        "Predicting the test data and evaluating the model accuracy and generating the classification report(cost of FP=FN)."
      ],
      "metadata": {
        "id": "BYEsDh_9Yn4d"
      }
    },
    {
      "cell_type": "code",
      "source": [
        "y_pred = nb_classifier.predict(X_test)\n",
        "print(accuracy_score(y_test, y_pred))\n",
        "print(classification_report(y_test,y_pred))\n",
        "scores = cross_val_score(nb_classifier, X, y, cv=5)\n",
        "print(\"Accuracy Mean:\", scores.mean())\n",
        "print(\"Accuracy Standard Deviation:\", scores.std())"
      ],
      "metadata": {
        "colab": {
          "base_uri": "https://localhost:8080/"
        },
        "id": "gF9vuoghZEoh",
        "outputId": "bd4d158a-8fd9-446c-dfe1-870e352e0320"
      },
      "execution_count": 11,
      "outputs": [
        {
          "output_type": "stream",
          "name": "stdout",
          "text": [
            "0.8924242424242425\n",
            "              precision    recall  f1-score   support\n",
            "\n",
            "           0       1.00      1.00      1.00        28\n",
            "           1       0.81      1.00      0.90        30\n",
            "           2       0.70      0.74      0.72        31\n",
            "           3       1.00      1.00      1.00        34\n",
            "           4       1.00      0.96      0.98        26\n",
            "           5       1.00      1.00      1.00        29\n",
            "           6       0.87      0.96      0.92        28\n",
            "           7       1.00      1.00      1.00        30\n",
            "           8       0.78      1.00      0.87        31\n",
            "           9       0.87      1.00      0.93        26\n",
            "          10       0.72      0.82      0.77        22\n",
            "          11       0.96      0.81      0.88        27\n",
            "          12       0.74      0.82      0.78        28\n",
            "          13       0.64      0.58      0.61        36\n",
            "          14       0.91      1.00      0.95        29\n",
            "          15       1.00      1.00      1.00        30\n",
            "          16       1.00      1.00      1.00        34\n",
            "          17       0.83      0.49      0.61        39\n",
            "          18       0.96      0.82      0.88        28\n",
            "          19       0.97      1.00      0.98        32\n",
            "          20       1.00      0.81      0.90        37\n",
            "          21       1.00      1.00      1.00        25\n",
            "\n",
            "    accuracy                           0.89       660\n",
            "   macro avg       0.90      0.90      0.89       660\n",
            "weighted avg       0.90      0.89      0.89       660\n",
            "\n",
            "Accuracy Mean: 0.885909090909091\n",
            "Accuracy Standard Deviation: 0.012314742894676444\n"
          ]
        }
      ]
    },
    {
      "cell_type": "markdown",
      "source": [
        "## K-Nearest Neighbours"
      ],
      "metadata": {
        "id": "_zTeALKGeknX"
      }
    },
    {
      "cell_type": "code",
      "source": [
        "from sklearn.neighbors import KNeighborsClassifier\n",
        "\n",
        "k = 5\n",
        "knn_classifier = KNeighborsClassifier(n_neighbors=k)\n",
        "knn_classifier.fit(X_train, y_train)"
      ],
      "metadata": {
        "colab": {
          "base_uri": "https://localhost:8080/",
          "height": 74
        },
        "id": "9kYC8CqxeqeG",
        "outputId": "e9a75cd3-7a9d-484a-decd-052d00cca8fc"
      },
      "execution_count": 12,
      "outputs": [
        {
          "output_type": "execute_result",
          "data": {
            "text/plain": [
              "KNeighborsClassifier()"
            ],
            "text/html": [
              "<style>#sk-container-id-3 {color: black;background-color: white;}#sk-container-id-3 pre{padding: 0;}#sk-container-id-3 div.sk-toggleable {background-color: white;}#sk-container-id-3 label.sk-toggleable__label {cursor: pointer;display: block;width: 100%;margin-bottom: 0;padding: 0.3em;box-sizing: border-box;text-align: center;}#sk-container-id-3 label.sk-toggleable__label-arrow:before {content: \"▸\";float: left;margin-right: 0.25em;color: #696969;}#sk-container-id-3 label.sk-toggleable__label-arrow:hover:before {color: black;}#sk-container-id-3 div.sk-estimator:hover label.sk-toggleable__label-arrow:before {color: black;}#sk-container-id-3 div.sk-toggleable__content {max-height: 0;max-width: 0;overflow: hidden;text-align: left;background-color: #f0f8ff;}#sk-container-id-3 div.sk-toggleable__content pre {margin: 0.2em;color: black;border-radius: 0.25em;background-color: #f0f8ff;}#sk-container-id-3 input.sk-toggleable__control:checked~div.sk-toggleable__content {max-height: 200px;max-width: 100%;overflow: auto;}#sk-container-id-3 input.sk-toggleable__control:checked~label.sk-toggleable__label-arrow:before {content: \"▾\";}#sk-container-id-3 div.sk-estimator input.sk-toggleable__control:checked~label.sk-toggleable__label {background-color: #d4ebff;}#sk-container-id-3 div.sk-label input.sk-toggleable__control:checked~label.sk-toggleable__label {background-color: #d4ebff;}#sk-container-id-3 input.sk-hidden--visually {border: 0;clip: rect(1px 1px 1px 1px);clip: rect(1px, 1px, 1px, 1px);height: 1px;margin: -1px;overflow: hidden;padding: 0;position: absolute;width: 1px;}#sk-container-id-3 div.sk-estimator {font-family: monospace;background-color: #f0f8ff;border: 1px dotted black;border-radius: 0.25em;box-sizing: border-box;margin-bottom: 0.5em;}#sk-container-id-3 div.sk-estimator:hover {background-color: #d4ebff;}#sk-container-id-3 div.sk-parallel-item::after {content: \"\";width: 100%;border-bottom: 1px solid gray;flex-grow: 1;}#sk-container-id-3 div.sk-label:hover label.sk-toggleable__label {background-color: #d4ebff;}#sk-container-id-3 div.sk-serial::before {content: \"\";position: absolute;border-left: 1px solid gray;box-sizing: border-box;top: 0;bottom: 0;left: 50%;z-index: 0;}#sk-container-id-3 div.sk-serial {display: flex;flex-direction: column;align-items: center;background-color: white;padding-right: 0.2em;padding-left: 0.2em;position: relative;}#sk-container-id-3 div.sk-item {position: relative;z-index: 1;}#sk-container-id-3 div.sk-parallel {display: flex;align-items: stretch;justify-content: center;background-color: white;position: relative;}#sk-container-id-3 div.sk-item::before, #sk-container-id-3 div.sk-parallel-item::before {content: \"\";position: absolute;border-left: 1px solid gray;box-sizing: border-box;top: 0;bottom: 0;left: 50%;z-index: -1;}#sk-container-id-3 div.sk-parallel-item {display: flex;flex-direction: column;z-index: 1;position: relative;background-color: white;}#sk-container-id-3 div.sk-parallel-item:first-child::after {align-self: flex-end;width: 50%;}#sk-container-id-3 div.sk-parallel-item:last-child::after {align-self: flex-start;width: 50%;}#sk-container-id-3 div.sk-parallel-item:only-child::after {width: 0;}#sk-container-id-3 div.sk-dashed-wrapped {border: 1px dashed gray;margin: 0 0.4em 0.5em 0.4em;box-sizing: border-box;padding-bottom: 0.4em;background-color: white;}#sk-container-id-3 div.sk-label label {font-family: monospace;font-weight: bold;display: inline-block;line-height: 1.2em;}#sk-container-id-3 div.sk-label-container {text-align: center;}#sk-container-id-3 div.sk-container {/* jupyter's `normalize.less` sets `[hidden] { display: none; }` but bootstrap.min.css set `[hidden] { display: none !important; }` so we also need the `!important` here to be able to override the default hidden behavior on the sphinx rendered scikit-learn.org. See: https://github.com/scikit-learn/scikit-learn/issues/21755 */display: inline-block !important;position: relative;}#sk-container-id-3 div.sk-text-repr-fallback {display: none;}</style><div id=\"sk-container-id-3\" class=\"sk-top-container\"><div class=\"sk-text-repr-fallback\"><pre>KNeighborsClassifier()</pre><b>In a Jupyter environment, please rerun this cell to show the HTML representation or trust the notebook. <br />On GitHub, the HTML representation is unable to render, please try loading this page with nbviewer.org.</b></div><div class=\"sk-container\" hidden><div class=\"sk-item\"><div class=\"sk-estimator sk-toggleable\"><input class=\"sk-toggleable__control sk-hidden--visually\" id=\"sk-estimator-id-3\" type=\"checkbox\" checked><label for=\"sk-estimator-id-3\" class=\"sk-toggleable__label sk-toggleable__label-arrow\">KNeighborsClassifier</label><div class=\"sk-toggleable__content\"><pre>KNeighborsClassifier()</pre></div></div></div></div></div>"
            ]
          },
          "metadata": {},
          "execution_count": 12
        }
      ]
    },
    {
      "cell_type": "markdown",
      "source": [
        "Predicting the test data and evaluating the model accuracy and generating the classification report(cost of FP=FN).\n"
      ],
      "metadata": {
        "id": "lbAgPpo1fALf"
      }
    },
    {
      "cell_type": "code",
      "source": [
        "y_pred = knn_classifier.predict(X_test)\n",
        "print(accuracy_score(y_test, y_pred))\n",
        "print(classification_report(y_test,y_pred))\n",
        "scores = cross_val_score(knn_classifier, X_test, y_test, cv=5)\n",
        "print(\"Accuracy Mean:\", scores.mean())\n",
        "print(\"Accuracy Standard Deviation:\", scores.std())"
      ],
      "metadata": {
        "colab": {
          "base_uri": "https://localhost:8080/"
        },
        "id": "2843I7T3fAvV",
        "outputId": "2ad4c1b9-3111-4d80-ec95-8a22ab929e47"
      },
      "execution_count": 13,
      "outputs": [
        {
          "output_type": "stream",
          "name": "stdout",
          "text": [
            "0.9787878787878788\n",
            "              precision    recall  f1-score   support\n",
            "\n",
            "           0       1.00      1.00      1.00        28\n",
            "           1       1.00      1.00      1.00        30\n",
            "           2       1.00      1.00      1.00        31\n",
            "           3       1.00      1.00      1.00        34\n",
            "           4       1.00      1.00      1.00        26\n",
            "           5       1.00      1.00      1.00        29\n",
            "           6       0.97      1.00      0.98        28\n",
            "           7       1.00      1.00      1.00        30\n",
            "           8       0.83      0.94      0.88        31\n",
            "           9       0.87      1.00      0.93        26\n",
            "          10       0.96      1.00      0.98        22\n",
            "          11       1.00      0.96      0.98        27\n",
            "          12       1.00      1.00      1.00        28\n",
            "          13       1.00      0.97      0.99        36\n",
            "          14       1.00      1.00      1.00        29\n",
            "          15       1.00      1.00      1.00        30\n",
            "          16       1.00      1.00      1.00        34\n",
            "          17       1.00      0.97      0.99        39\n",
            "          18       1.00      0.86      0.92        28\n",
            "          19       1.00      1.00      1.00        32\n",
            "          20       0.94      0.86      0.90        37\n",
            "          21       1.00      1.00      1.00        25\n",
            "\n",
            "    accuracy                           0.98       660\n",
            "   macro avg       0.98      0.98      0.98       660\n",
            "weighted avg       0.98      0.98      0.98       660\n",
            "\n",
            "Accuracy Mean: 0.9621212121212122\n",
            "Accuracy Standard Deviation: 0.01437398936440171\n"
          ]
        }
      ]
    },
    {
      "cell_type": "code",
      "source": [
        "import numpy as np\n",
        "import matplotlib.pyplot as plt\n",
        "from sklearn.model_selection import cross_val_score\n",
        "from sklearn.neighbors import KNeighborsClassifier\n",
        "\n",
        "# Load your data and split into features (X) and labels (y)\n",
        "# ...\n",
        "\n",
        "# Define a range of k values (hyperparameter values)\n",
        "k_values = range(1,21)  # Example range from 1 to 20\n",
        "\n",
        "# Initialize an empty list to store mean accuracy values\n",
        "mean_accuracies = []\n",
        "\n",
        "# Calculate mean accuracy for each k value using cross-validation\n",
        "for k in k_values:\n",
        "    knn_classifier = KNeighborsClassifier(n_neighbors=k)\n",
        "    scores = cross_val_score(knn_classifier, X_test, y_test, cv=5)\n",
        "    mean_accuracy = np.mean(scores)\n",
        "    mean_accuracies.append(mean_accuracy)\n",
        "\n",
        "# Plot the cross-validation graph\n",
        "plt.plot(k_values, mean_accuracies, marker='o')\n",
        "plt.title('Cross-Validation Graph for KNN')\n",
        "plt.xlabel('Number of Neighbors (k)')\n",
        "plt.ylabel('Mean Accuracy')\n",
        "plt.xticks(k_values)\n",
        "plt.grid(True)\n",
        "plt.show()\n"
      ],
      "metadata": {
        "colab": {
          "base_uri": "https://localhost:8080/",
          "height": 472
        },
        "id": "6nGVFssVJOoQ",
        "outputId": "a0087010-a9db-41c4-c0cb-0d13cfdc5cc1"
      },
      "execution_count": 14,
      "outputs": [
        {
          "output_type": "display_data",
          "data": {
            "text/plain": [
              "<Figure size 640x480 with 1 Axes>"
            ],
            "image/png": "[encoded data removed]"
          },
          "metadata": {}
        }
      ]
    },
    {
      "cell_type": "markdown",
      "source": [
        "## GradientBoostingClassifier"
      ],
      "metadata": {
        "id": "-TxUaSVwfRGC"
      }
    },
    {
      "cell_type": "code",
      "source": [
        "from sklearn.ensemble import GradientBoostingClassifier\n",
        "\n",
        "gb_classifier = GradientBoostingClassifier(n_estimators=100, learning_rate=0.1, random_state=4)\n",
        "gb_classifier.fit(X_train, y_train)\n"
      ],
      "metadata": {
        "colab": {
          "base_uri": "https://localhost:8080/",
          "height": 74
        },
        "id": "XMhlG_fGfSBs",
        "outputId": "f4b7b09d-8fec-4cba-eea3-737e88b265e9"
      },
      "execution_count": 15,
      "outputs": [
        {
          "output_type": "execute_result",
          "data": {
            "text/plain": [
              "GradientBoostingClassifier(random_state=4)"
            ],
            "text/html": [
              "<style>#sk-container-id-4 {color: black;background-color: white;}#sk-container-id-4 pre{padding: 0;}#sk-container-id-4 div.sk-toggleable {background-color: white;}#sk-container-id-4 label.sk-toggleable__label {cursor: pointer;display: block;width: 100%;margin-bottom: 0;padding: 0.3em;box-sizing: border-box;text-align: center;}#sk-container-id-4 label.sk-toggleable__label-arrow:before {content: \"▸\";float: left;margin-right: 0.25em;color: #696969;}#sk-container-id-4 label.sk-toggleable__label-arrow:hover:before {color: black;}#sk-container-id-4 div.sk-estimator:hover label.sk-toggleable__label-arrow:before {color: black;}#sk-container-id-4 div.sk-toggleable__content {max-height: 0;max-width: 0;overflow: hidden;text-align: left;background-color: #f0f8ff;}#sk-container-id-4 div.sk-toggleable__content pre {margin: 0.2em;color: black;border-radius: 0.25em;background-color: #f0f8ff;}#sk-container-id-4 input.sk-toggleable__control:checked~div.sk-toggleable__content {max-height: 200px;max-width: 100%;overflow: auto;}#sk-container-id-4 input.sk-toggleable__control:checked~label.sk-toggleable__label-arrow:before {content: \"▾\";}#sk-container-id-4 div.sk-estimator input.sk-toggleable__control:checked~label.sk-toggleable__label {background-color: #d4ebff;}#sk-container-id-4 div.sk-label input.sk-toggleable__control:checked~label.sk-toggleable__label {background-color: #d4ebff;}#sk-container-id-4 input.sk-hidden--visually {border: 0;clip: rect(1px 1px 1px 1px);clip: rect(1px, 1px, 1px, 1px);height: 1px;margin: -1px;overflow: hidden;padding: 0;position: absolute;width: 1px;}#sk-container-id-4 div.sk-estimator {font-family: monospace;background-color: #f0f8ff;border: 1px dotted black;border-radius: 0.25em;box-sizing: border-box;margin-bottom: 0.5em;}#sk-container-id-4 div.sk-estimator:hover {background-color: #d4ebff;}#sk-container-id-4 div.sk-parallel-item::after {content: \"\";width: 100%;border-bottom: 1px solid gray;flex-grow: 1;}#sk-container-id-4 div.sk-label:hover label.sk-toggleable__label {background-color: #d4ebff;}#sk-container-id-4 div.sk-serial::before {content: \"\";position: absolute;border-left: 1px solid gray;box-sizing: border-box;top: 0;bottom: 0;left: 50%;z-index: 0;}#sk-container-id-4 div.sk-serial {display: flex;flex-direction: column;align-items: center;background-color: white;padding-right: 0.2em;padding-left: 0.2em;position: relative;}#sk-container-id-4 div.sk-item {position: relative;z-index: 1;}#sk-container-id-4 div.sk-parallel {display: flex;align-items: stretch;justify-content: center;background-color: white;position: relative;}#sk-container-id-4 div.sk-item::before, #sk-container-id-4 div.sk-parallel-item::before {content: \"\";position: absolute;border-left: 1px solid gray;box-sizing: border-box;top: 0;bottom: 0;left: 50%;z-index: -1;}#sk-container-id-4 div.sk-parallel-item {display: flex;flex-direction: column;z-index: 1;position: relative;background-color: white;}#sk-container-id-4 div.sk-parallel-item:first-child::after {align-self: flex-end;width: 50%;}#sk-container-id-4 div.sk-parallel-item:last-child::after {align-self: flex-start;width: 50%;}#sk-container-id-4 div.sk-parallel-item:only-child::after {width: 0;}#sk-container-id-4 div.sk-dashed-wrapped {border: 1px dashed gray;margin: 0 0.4em 0.5em 0.4em;box-sizing: border-box;padding-bottom: 0.4em;background-color: white;}#sk-container-id-4 div.sk-label label {font-family: monospace;font-weight: bold;display: inline-block;line-height: 1.2em;}#sk-container-id-4 div.sk-label-container {text-align: center;}#sk-container-id-4 div.sk-container {/* jupyter's `normalize.less` sets `[hidden] { display: none; }` but bootstrap.min.css set `[hidden] { display: none !important; }` so we also need the `!important` here to be able to override the default hidden behavior on the sphinx rendered scikit-learn.org. See: https://github.com/scikit-learn/scikit-learn/issues/21755 */display: inline-block !important;position: relative;}#sk-container-id-4 div.sk-text-repr-fallback {display: none;}</style><div id=\"sk-container-id-4\" class=\"sk-top-container\"><div class=\"sk-text-repr-fallback\"><pre>GradientBoostingClassifier(random_state=4)</pre><b>In a Jupyter environment, please rerun this cell to show the HTML representation or trust the notebook. <br />On GitHub, the HTML representation is unable to render, please try loading this page with nbviewer.org.</b></div><div class=\"sk-container\" hidden><div class=\"sk-item\"><div class=\"sk-estimator sk-toggleable\"><input class=\"sk-toggleable__control sk-hidden--visually\" id=\"sk-estimator-id-4\" type=\"checkbox\" checked><label for=\"sk-estimator-id-4\" class=\"sk-toggleable__label sk-toggleable__label-arrow\">GradientBoostingClassifier</label><div class=\"sk-toggleable__content\"><pre>GradientBoostingClassifier(random_state=4)</pre></div></div></div></div></div>"
            ]
          },
          "metadata": {},
          "execution_count": 15
        }
      ]
    },
    {
      "cell_type": "markdown",
      "source": [
        "Predicting the test data and evaluating the model accuracy and generating the classification report(cost of FP=FN).\n"
      ],
      "metadata": {
        "id": "8OjlRnpsfoBa"
      }
    },
    {
      "cell_type": "code",
      "source": [
        "y_pred = gb_classifier.predict(X_test)\n",
        "print(accuracy_score(y_test, y_pred))\n",
        "print(classification_report(y_test,y_pred))\n",
        "scores = cross_val_score(gb_classifier, X, y, cv=5)\n",
        "print(\"Accuracy Mean:\", scores.mean())\n",
        "print(\"Accuracy Standard Deviation:\", scores.std())"
      ],
      "metadata": {
        "colab": {
          "base_uri": "https://localhost:8080/"
        },
        "id": "h-5CUXTsfpoo",
        "outputId": "0400599b-684e-4979-eb49-8f5ce5c9a77d"
      },
      "execution_count": 16,
      "outputs": [
        {
          "output_type": "stream",
          "name": "stdout",
          "text": [
            "0.9878787878787879\n",
            "              precision    recall  f1-score   support\n",
            "\n",
            "           0       1.00      1.00      1.00        28\n",
            "           1       1.00      1.00      1.00        30\n",
            "           2       1.00      0.97      0.98        31\n",
            "           3       1.00      1.00      1.00        34\n",
            "           4       1.00      1.00      1.00        26\n",
            "           5       1.00      1.00      1.00        29\n",
            "           6       0.97      1.00      0.98        28\n",
            "           7       1.00      1.00      1.00        30\n",
            "           8       0.88      0.94      0.91        31\n",
            "           9       1.00      1.00      1.00        26\n",
            "          10       1.00      1.00      1.00        22\n",
            "          11       0.96      0.96      0.96        27\n",
            "          12       1.00      1.00      1.00        28\n",
            "          13       1.00      0.97      0.99        36\n",
            "          14       1.00      1.00      1.00        29\n",
            "          15       1.00      1.00      1.00        30\n",
            "          16       1.00      1.00      1.00        34\n",
            "          17       1.00      0.92      0.96        39\n",
            "          18       1.00      1.00      1.00        28\n",
            "          19       1.00      1.00      1.00        32\n",
            "          20       0.95      1.00      0.97        37\n",
            "          21       1.00      1.00      1.00        25\n",
            "\n",
            "    accuracy                           0.99       660\n",
            "   macro avg       0.99      0.99      0.99       660\n",
            "weighted avg       0.99      0.99      0.99       660\n",
            "\n",
            "Accuracy Mean: 0.9913636363636364\n",
            "Accuracy Standard Deviation: 0.00391014784865573\n"
          ]
        }
      ]
    },
    {
      "cell_type": "markdown",
      "source": [
        "# Conclusion\n",
        "All the models seem to have extremely high accuracy but keeping in mind the chances for overfitting I think that Random Forest Classifier will be the best. It has low chances of overfitting compared to the others due to its low complexity and also it had very good scores in all of the tests. Also it is an ensemble method meaning it will take avg of various results which could be good in this case."
      ],
      "metadata": {
        "id": "awzkH_n2f7Lj"
      }
    },
    {
      "cell_type": "markdown",
      "source": [
        "Coverting the data code into the desired output"
      ],
      "metadata": {
        "id": "jDh17o_vgk7u"
      }
    },
    {
      "cell_type": "code",
      "source": [
        "# Collect user input\n",
        "user_input = []\n",
        "for feature in X.columns:\n",
        "    value = float(input(f\"Enter {feature}: \"))\n",
        "    user_input.append(value)\n",
        "\n",
        "# Preprocess user input\n",
        "user_input_df = pd.DataFrame([user_input], columns=X.columns)\n",
        "user_input_preprocessed = user_input_df.values\n",
        "\n",
        "# Make prediction using Random Forest\n",
        "predicted_label = rf_classifier.predict(user_input_preprocessed)[0]\n",
        "predicted_crop = label_mapping[predicted_label]\n",
        "\n",
        "# Display results\n",
        "print(f\"The predicted crop is: {predicted_crop}\")\n"
      ],
      "metadata": {
        "colab": {
          "base_uri": "https://localhost:8080/"
        },
        "id": "q1Lsu2jWgrWH",
        "outputId": "be089c78-0323-450a-b08c-91e6f2dc2dd6"
      },
      "execution_count": 18,
      "outputs": [
        {
          "output_type": "stream",
          "name": "stdout",
          "text": [
            "Enter N: 233\n",
            "Enter P: 2\n",
            "Enter K: 55\n",
            "Enter temperature: 88\n",
            "Enter humidity: 22\n",
            "Enter ph: 7\n",
            "Enter rainfall: 100\n",
            "The predicted crop is: coffee\n"
          ]
        },
        {
          "output_type": "stream",
          "name": "stderr",
          "text": [
            "/usr/local/lib/python3.10/dist-packages/sklearn/base.py:439: UserWarning: X does not have valid feature names, but RandomForestClassifier was fitted with feature names\n",
            "  warnings.warn(\n"
          ]
        }
      ]
    }
  ]
}