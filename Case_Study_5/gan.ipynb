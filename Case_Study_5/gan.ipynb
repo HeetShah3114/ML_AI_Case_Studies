{
  "cells": [
    {
      "cell_type": "markdown",
      "source": [
        "# Installing Necssary Libraries"
      ],
      "metadata": {
        "id": "p-hRB8ASXzgC"
      }
    },
    {
      "cell_type": "code",
      "execution_count": null,
      "metadata": {
        "id": "rCJwZdG_sez2",
        "colab": {
          "base_uri": "https://localhost:8080/"
        },
        "outputId": "85478960-728f-4f6f-a0f1-79e9baff4341"
      },
      "outputs": [
        {
          "output_type": "stream",
          "name": "stdout",
          "text": [
            "Requirement already satisfied: tensorflow in /usr/local/lib/python3.10/dist-packages (2.12.0)\n",
            "Requirement already satisfied: absl-py>=1.0.0 in /usr/local/lib/python3.10/dist-packages (from tensorflow) (1.4.0)\n",
            "Requirement already satisfied: astunparse>=1.6.0 in /usr/local/lib/python3.10/dist-packages (from tensorflow) (1.6.3)\n",
            "Requirement already satisfied: flatbuffers>=2.0 in /usr/local/lib/python3.10/dist-packages (from tensorflow) (23.5.26)\n",
            "Requirement already satisfied: gast<=0.4.0,>=0.2.1 in /usr/local/lib/python3.10/dist-packages (from tensorflow) (0.4.0)\n",
            "Requirement already satisfied: google-pasta>=0.1.1 in /usr/local/lib/python3.10/dist-packages (from tensorflow) (0.2.0)\n",
            "Requirement already satisfied: grpcio<2.0,>=1.24.3 in /usr/local/lib/python3.10/dist-packages (from tensorflow) (1.57.0)\n",
            "Requirement already satisfied: h5py>=2.9.0 in /usr/local/lib/python3.10/dist-packages (from tensorflow) (3.9.0)\n",
            "Requirement already satisfied: jax>=0.3.15 in /usr/local/lib/python3.10/dist-packages (from tensorflow) (0.4.14)\n",
            "Requirement already satisfied: keras<2.13,>=2.12.0 in /usr/local/lib/python3.10/dist-packages (from tensorflow) (2.12.0)\n",
            "Requirement already satisfied: libclang>=13.0.0 in /usr/local/lib/python3.10/dist-packages (from tensorflow) (16.0.6)\n",
            "Requirement already satisfied: numpy<1.24,>=1.22 in /usr/local/lib/python3.10/dist-packages (from tensorflow) (1.23.5)\n",
            "Requirement already satisfied: opt-einsum>=2.3.2 in /usr/local/lib/python3.10/dist-packages (from tensorflow) (3.3.0)\n",
            "Requirement already satisfied: packaging in /usr/local/lib/python3.10/dist-packages (from tensorflow) (23.1)\n",
            "Requirement already satisfied: protobuf!=4.21.0,!=4.21.1,!=4.21.2,!=4.21.3,!=4.21.4,!=4.21.5,<5.0.0dev,>=3.20.3 in /usr/local/lib/python3.10/dist-packages (from tensorflow) (3.20.3)\n",
            "Requirement already satisfied: setuptools in /usr/local/lib/python3.10/dist-packages (from tensorflow) (67.7.2)\n",
            "Requirement already satisfied: six>=1.12.0 in /usr/local/lib/python3.10/dist-packages (from tensorflow) (1.16.0)\n",
            "Requirement already satisfied: tensorboard<2.13,>=2.12 in /usr/local/lib/python3.10/dist-packages (from tensorflow) (2.12.3)\n",
            "Requirement already satisfied: tensorflow-estimator<2.13,>=2.12.0 in /usr/local/lib/python3.10/dist-packages (from tensorflow) (2.12.0)\n",
            "Requirement already satisfied: termcolor>=1.1.0 in /usr/local/lib/python3.10/dist-packages (from tensorflow) (2.3.0)\n",
            "Requirement already satisfied: typing-extensions>=3.6.6 in /usr/local/lib/python3.10/dist-packages (from tensorflow) (4.7.1)\n",
            "Requirement already satisfied: wrapt<1.15,>=1.11.0 in /usr/local/lib/python3.10/dist-packages (from tensorflow) (1.14.1)\n",
            "Requirement already satisfied: tensorflow-io-gcs-filesystem>=0.23.1 in /usr/local/lib/python3.10/dist-packages (from tensorflow) (0.33.0)\n",
            "Requirement already satisfied: wheel<1.0,>=0.23.0 in /usr/local/lib/python3.10/dist-packages (from astunparse>=1.6.0->tensorflow) (0.41.2)\n",
            "Requirement already satisfied: ml-dtypes>=0.2.0 in /usr/local/lib/python3.10/dist-packages (from jax>=0.3.15->tensorflow) (0.2.0)\n",
            "Requirement already satisfied: scipy>=1.7 in /usr/local/lib/python3.10/dist-packages (from jax>=0.3.15->tensorflow) (1.10.1)\n",
            "Requirement already satisfied: google-auth<3,>=1.6.3 in /usr/local/lib/python3.10/dist-packages (from tensorboard<2.13,>=2.12->tensorflow) (2.17.3)\n",
            "Requirement already satisfied: google-auth-oauthlib<1.1,>=0.5 in /usr/local/lib/python3.10/dist-packages (from tensorboard<2.13,>=2.12->tensorflow) (1.0.0)\n",
            "Requirement already satisfied: markdown>=2.6.8 in /usr/local/lib/python3.10/dist-packages (from tensorboard<2.13,>=2.12->tensorflow) (3.4.4)\n",
            "Requirement already satisfied: requests<3,>=2.21.0 in /usr/local/lib/python3.10/dist-packages (from tensorboard<2.13,>=2.12->tensorflow) (2.31.0)\n",
            "Requirement already satisfied: tensorboard-data-server<0.8.0,>=0.7.0 in /usr/local/lib/python3.10/dist-packages (from tensorboard<2.13,>=2.12->tensorflow) (0.7.1)\n",
            "Requirement already satisfied: werkzeug>=1.0.1 in /usr/local/lib/python3.10/dist-packages (from tensorboard<2.13,>=2.12->tensorflow) (2.3.7)\n",
            "Requirement already satisfied: cachetools<6.0,>=2.0.0 in /usr/local/lib/python3.10/dist-packages (from google-auth<3,>=1.6.3->tensorboard<2.13,>=2.12->tensorflow) (5.3.1)\n",
            "Requirement already satisfied: pyasn1-modules>=0.2.1 in /usr/local/lib/python3.10/dist-packages (from google-auth<3,>=1.6.3->tensorboard<2.13,>=2.12->tensorflow) (0.3.0)\n",
            "Requirement already satisfied: rsa<5,>=3.1.4 in /usr/local/lib/python3.10/dist-packages (from google-auth<3,>=1.6.3->tensorboard<2.13,>=2.12->tensorflow) (4.9)\n",
            "Requirement already satisfied: requests-oauthlib>=0.7.0 in /usr/local/lib/python3.10/dist-packages (from google-auth-oauthlib<1.1,>=0.5->tensorboard<2.13,>=2.12->tensorflow) (1.3.1)\n",
            "Requirement already satisfied: charset-normalizer<4,>=2 in /usr/local/lib/python3.10/dist-packages (from requests<3,>=2.21.0->tensorboard<2.13,>=2.12->tensorflow) (3.2.0)\n",
            "Requirement already satisfied: idna<4,>=2.5 in /usr/local/lib/python3.10/dist-packages (from requests<3,>=2.21.0->tensorboard<2.13,>=2.12->tensorflow) (3.4)\n",
            "Requirement already satisfied: urllib3<3,>=1.21.1 in /usr/local/lib/python3.10/dist-packages (from requests<3,>=2.21.0->tensorboard<2.13,>=2.12->tensorflow) (2.0.4)\n",
            "Requirement already satisfied: certifi>=2017.4.17 in /usr/local/lib/python3.10/dist-packages (from requests<3,>=2.21.0->tensorboard<2.13,>=2.12->tensorflow) (2023.7.22)\n",
            "Requirement already satisfied: MarkupSafe>=2.1.1 in /usr/local/lib/python3.10/dist-packages (from werkzeug>=1.0.1->tensorboard<2.13,>=2.12->tensorflow) (2.1.3)\n",
            "Requirement already satisfied: pyasn1<0.6.0,>=0.4.6 in /usr/local/lib/python3.10/dist-packages (from pyasn1-modules>=0.2.1->google-auth<3,>=1.6.3->tensorboard<2.13,>=2.12->tensorflow) (0.5.0)\n",
            "Requirement already satisfied: oauthlib>=3.0.0 in /usr/local/lib/python3.10/dist-packages (from requests-oauthlib>=0.7.0->google-auth-oauthlib<1.1,>=0.5->tensorboard<2.13,>=2.12->tensorflow) (3.2.2)\n"
          ]
        }
      ],
      "source": [
        "!pip install tensorflow"
      ]
    },
    {
      "cell_type": "markdown",
      "source": [
        "# Preprocessing the data"
      ],
      "metadata": {
        "id": "AOry6AOXYAGG"
      }
    },
    {
      "cell_type": "markdown",
      "source": [
        "Importing the necessary libraries"
      ],
      "metadata": {
        "id": "6nWj8otIYMM-"
      }
    },
    {
      "cell_type": "code",
      "execution_count": null,
      "metadata": {
        "id": "aEkbWDA7oewI"
      },
      "outputs": [],
      "source": [
        "%matplotlib inline\n",
        "import matplotlib.pyplot as plt\n",
        "import tensorflow as tf\n",
        "import pandas as pd\n",
        "from tensorflow.keras.models import *\n",
        "from tensorflow.keras.layers import *"
      ]
    },
    {
      "cell_type": "markdown",
      "source": [
        "Using the fashion-mnsit datset to train"
      ],
      "metadata": {
        "id": "Vo9aHu11YHKN"
      }
    },
    {
      "cell_type": "code",
      "execution_count": null,
      "metadata": {
        "id": "uXZdfJtCqqtz",
        "colab": {
          "base_uri": "https://localhost:8080/",
          "height": 359
        },
        "outputId": "f299b45d-c92c-4734-a6fb-7ed1f88bf37b"
      },
      "outputs": [
        {
          "output_type": "stream",
          "name": "stdout",
          "text": [
            "<class 'pandas.core.frame.DataFrame'>\n",
            "RangeIndex: 60000 entries, 0 to 59999\n",
            "Columns: 785 entries, label to pixel784\n",
            "dtypes: int64(785)\n",
            "memory usage: 359.3 MB\n",
            "None\n"
          ]
        },
        {
          "output_type": "execute_result",
          "data": {
            "text/plain": [
              "   label  pixel1  pixel2  pixel3  pixel4  pixel5  pixel6  pixel7  pixel8  \\\n",
              "0      2       0       0       0       0       0       0       0       0   \n",
              "1      9       0       0       0       0       0       0       0       0   \n",
              "2      6       0       0       0       0       0       0       0       5   \n",
              "3      0       0       0       0       1       2       0       0       0   \n",
              "4      3       0       0       0       0       0       0       0       0   \n",
              "\n",
              "   pixel9  ...  pixel775  pixel776  pixel777  pixel778  pixel779  pixel780  \\\n",
              "0       0  ...         0         0         0         0         0         0   \n",
              "1       0  ...         0         0         0         0         0         0   \n",
              "2       0  ...         0         0         0        30        43         0   \n",
              "3       0  ...         3         0         0         0         0         1   \n",
              "4       0  ...         0         0         0         0         0         0   \n",
              "\n",
              "   pixel781  pixel782  pixel783  pixel784  \n",
              "0         0         0         0         0  \n",
              "1         0         0         0         0  \n",
              "2         0         0         0         0  \n",
              "3         0         0         0         0  \n",
              "4         0         0         0         0  \n",
              "\n",
              "[5 rows x 785 columns]"
            ],
            "text/html": [
              "\n",
              "  <div id=\"df-3c1bf806-8d2a-4006-aa6f-5e43cd5ce0fb\" class=\"colab-df-container\">\n",
              "    <div>\n",
              "<style scoped>\n",
              "    .dataframe tbody tr th:only-of-type {\n",
              "        vertical-align: middle;\n",
              "    }\n",
              "\n",
              "    .dataframe tbody tr th {\n",
              "        vertical-align: top;\n",
              "    }\n",
              "\n",
              "    .dataframe thead th {\n",
              "        text-align: right;\n",
              "    }\n",
              "</style>\n",
              "<table border=\"1\" class=\"dataframe\">\n",
              "  <thead>\n",
              "    <tr style=\"text-align: right;\">\n",
              "      <th></th>\n",
              "      <th>label</th>\n",
              "      <th>pixel1</th>\n",
              "      <th>pixel2</th>\n",
              "      <th>pixel3</th>\n",
              "      <th>pixel4</th>\n",
              "      <th>pixel5</th>\n",
              "      <th>pixel6</th>\n",
              "      <th>pixel7</th>\n",
              "      <th>pixel8</th>\n",
              "      <th>pixel9</th>\n",
              "      <th>...</th>\n",
              "      <th>pixel775</th>\n",
              "      <th>pixel776</th>\n",
              "      <th>pixel777</th>\n",
              "      <th>pixel778</th>\n",
              "      <th>pixel779</th>\n",
              "      <th>pixel780</th>\n",
              "      <th>pixel781</th>\n",
              "      <th>pixel782</th>\n",
              "      <th>pixel783</th>\n",
              "      <th>pixel784</th>\n",
              "    </tr>\n",
              "  </thead>\n",
              "  <tbody>\n",
              "    <tr>\n",
              "      <th>0</th>\n",
              "      <td>2</td>\n",
              "      <td>0</td>\n",
              "      <td>0</td>\n",
              "      <td>0</td>\n",
              "      <td>0</td>\n",
              "      <td>0</td>\n",
              "      <td>0</td>\n",
              "      <td>0</td>\n",
              "      <td>0</td>\n",
              "      <td>0</td>\n",
              "      <td>...</td>\n",
              "      <td>0</td>\n",
              "      <td>0</td>\n",
              "      <td>0</td>\n",
              "      <td>0</td>\n",
              "      <td>0</td>\n",
              "      <td>0</td>\n",
              "      <td>0</td>\n",
              "      <td>0</td>\n",
              "      <td>0</td>\n",
              "      <td>0</td>\n",
              "    </tr>\n",
              "    <tr>\n",
              "      <th>1</th>\n",
              "      <td>9</td>\n",
              "      <td>0</td>\n",
              "      <td>0</td>\n",
              "      <td>0</td>\n",
              "      <td>0</td>\n",
              "      <td>0</td>\n",
              "      <td>0</td>\n",
              "      <td>0</td>\n",
              "      <td>0</td>\n",
              "      <td>0</td>\n",
              "      <td>...</td>\n",
              "      <td>0</td>\n",
              "      <td>0</td>\n",
              "      <td>0</td>\n",
              "      <td>0</td>\n",
              "      <td>0</td>\n",
              "      <td>0</td>\n",
              "      <td>0</td>\n",
              "      <td>0</td>\n",
              "      <td>0</td>\n",
              "      <td>0</td>\n",
              "    </tr>\n",
              "    <tr>\n",
              "      <th>2</th>\n",
              "      <td>6</td>\n",
              "      <td>0</td>\n",
              "      <td>0</td>\n",
              "      <td>0</td>\n",
              "      <td>0</td>\n",
              "      <td>0</td>\n",
              "      <td>0</td>\n",
              "      <td>0</td>\n",
              "      <td>5</td>\n",
              "      <td>0</td>\n",
              "      <td>...</td>\n",
              "      <td>0</td>\n",
              "      <td>0</td>\n",
              "      <td>0</td>\n",
              "      <td>30</td>\n",
              "      <td>43</td>\n",
              "      <td>0</td>\n",
              "      <td>0</td>\n",
              "      <td>0</td>\n",
              "      <td>0</td>\n",
              "      <td>0</td>\n",
              "    </tr>\n",
              "    <tr>\n",
              "      <th>3</th>\n",
              "      <td>0</td>\n",
              "      <td>0</td>\n",
              "      <td>0</td>\n",
              "      <td>0</td>\n",
              "      <td>1</td>\n",
              "      <td>2</td>\n",
              "      <td>0</td>\n",
              "      <td>0</td>\n",
              "      <td>0</td>\n",
              "      <td>0</td>\n",
              "      <td>...</td>\n",
              "      <td>3</td>\n",
              "      <td>0</td>\n",
              "      <td>0</td>\n",
              "      <td>0</td>\n",
              "      <td>0</td>\n",
              "      <td>1</td>\n",
              "      <td>0</td>\n",
              "      <td>0</td>\n",
              "      <td>0</td>\n",
              "      <td>0</td>\n",
              "    </tr>\n",
              "    <tr>\n",
              "      <th>4</th>\n",
              "      <td>3</td>\n",
              "      <td>0</td>\n",
              "      <td>0</td>\n",
              "      <td>0</td>\n",
              "      <td>0</td>\n",
              "      <td>0</td>\n",
              "      <td>0</td>\n",
              "      <td>0</td>\n",
              "      <td>0</td>\n",
              "      <td>0</td>\n",
              "      <td>...</td>\n",
              "      <td>0</td>\n",
              "      <td>0</td>\n",
              "      <td>0</td>\n",
              "      <td>0</td>\n",
              "      <td>0</td>\n",
              "      <td>0</td>\n",
              "      <td>0</td>\n",
              "      <td>0</td>\n",
              "      <td>0</td>\n",
              "      <td>0</td>\n",
              "    </tr>\n",
              "  </tbody>\n",
              "</table>\n",
              "<p>5 rows × 785 columns</p>\n",
              "</div>\n",
              "    <div class=\"colab-df-buttons\">\n",
              "\n",
              "  <div class=\"colab-df-container\">\n",
              "    <button class=\"colab-df-convert\" onclick=\"convertToInteractive('df-3c1bf806-8d2a-4006-aa6f-5e43cd5ce0fb')\"\n",
              "            title=\"Convert this dataframe to an interactive table.\"\n",
              "            style=\"display:none;\">\n",
              "\n",
              "  <svg xmlns=\"http://www.w3.org/2000/svg\" height=\"24px\" viewBox=\"0 -960 960 960\">\n",
              "    <path d=\"M120-120v-720h720v720H120Zm60-500h600v-160H180v160Zm220 220h160v-160H400v160Zm0 220h160v-160H400v160ZM180-400h160v-160H180v160Zm440 0h160v-160H620v160ZM180-180h160v-160H180v160Zm440 0h160v-160H620v160Z\"/>\n",
              "  </svg>\n",
              "    </button>\n",
              "\n",
              "  <style>\n",
              "    .colab-df-container {\n",
              "      display:flex;\n",
              "      gap: 12px;\n",
              "    }\n",
              "\n",
              "    .colab-df-convert {\n",
              "      background-color: #E8F0FE;\n",
              "      border: none;\n",
              "      border-radius: 50%;\n",
              "      cursor: pointer;\n",
              "      display: none;\n",
              "      fill: #1967D2;\n",
              "      height: 32px;\n",
              "      padding: 0 0 0 0;\n",
              "      width: 32px;\n",
              "    }\n",
              "\n",
              "    .colab-df-convert:hover {\n",
              "      background-color: #E2EBFA;\n",
              "      box-shadow: 0px 1px 2px rgba(60, 64, 67, 0.3), 0px 1px 3px 1px rgba(60, 64, 67, 0.15);\n",
              "      fill: #174EA6;\n",
              "    }\n",
              "\n",
              "    .colab-df-buttons div {\n",
              "      margin-bottom: 4px;\n",
              "    }\n",
              "\n",
              "    [theme=dark] .colab-df-convert {\n",
              "      background-color: #3B4455;\n",
              "      fill: #D2E3FC;\n",
              "    }\n",
              "\n",
              "    [theme=dark] .colab-df-convert:hover {\n",
              "      background-color: #434B5C;\n",
              "      box-shadow: 0px 1px 3px 1px rgba(0, 0, 0, 0.15);\n",
              "      filter: drop-shadow(0px 1px 2px rgba(0, 0, 0, 0.3));\n",
              "      fill: #FFFFFF;\n",
              "    }\n",
              "  </style>\n",
              "\n",
              "    <script>\n",
              "      const buttonEl =\n",
              "        document.querySelector('#df-3c1bf806-8d2a-4006-aa6f-5e43cd5ce0fb button.colab-df-convert');\n",
              "      buttonEl.style.display =\n",
              "        google.colab.kernel.accessAllowed ? 'block' : 'none';\n",
              "\n",
              "      async function convertToInteractive(key) {\n",
              "        const element = document.querySelector('#df-3c1bf806-8d2a-4006-aa6f-5e43cd5ce0fb');\n",
              "        const dataTable =\n",
              "          await google.colab.kernel.invokeFunction('convertToInteractive',\n",
              "                                                    [key], {});\n",
              "        if (!dataTable) return;\n",
              "\n",
              "        const docLinkHtml = 'Like what you see? Visit the ' +\n",
              "          '<a target=\"_blank\" href=https://colab.research.google.com/notebooks/data_table.ipynb>data table notebook</a>'\n",
              "          + ' to learn more about interactive tables.';\n",
              "        element.innerHTML = '';\n",
              "        dataTable['output_type'] = 'display_data';\n",
              "        await google.colab.output.renderOutput(dataTable, element);\n",
              "        const docLink = document.createElement('div');\n",
              "        docLink.innerHTML = docLinkHtml;\n",
              "        element.appendChild(docLink);\n",
              "      }\n",
              "    </script>\n",
              "  </div>\n",
              "\n",
              "\n",
              "<div id=\"df-207395d0-ddf5-41f2-8d2d-abc028123305\">\n",
              "  <button class=\"colab-df-quickchart\" onclick=\"quickchart('df-207395d0-ddf5-41f2-8d2d-abc028123305')\"\n",
              "            title=\"Suggest charts.\"\n",
              "            style=\"display:none;\">\n",
              "\n",
              "<svg xmlns=\"http://www.w3.org/2000/svg\" height=\"24px\"viewBox=\"0 0 24 24\"\n",
              "     width=\"24px\">\n",
              "    <g>\n",
              "        <path d=\"M19 3H5c-1.1 0-2 .9-2 2v14c0 1.1.9 2 2 2h14c1.1 0 2-.9 2-2V5c0-1.1-.9-2-2-2zM9 17H7v-7h2v7zm4 0h-2V7h2v10zm4 0h-2v-4h2v4z\"/>\n",
              "    </g>\n",
              "</svg>\n",
              "  </button>\n",
              "\n",
              "<style>\n",
              "  .colab-df-quickchart {\n",
              "      --bg-color: #E8F0FE;\n",
              "      --fill-color: #1967D2;\n",
              "      --hover-bg-color: #E2EBFA;\n",
              "      --hover-fill-color: #174EA6;\n",
              "      --disabled-fill-color: #AAA;\n",
              "      --disabled-bg-color: #DDD;\n",
              "  }\n",
              "\n",
              "  [theme=dark] .colab-df-quickchart {\n",
              "      --bg-color: #3B4455;\n",
              "      --fill-color: #D2E3FC;\n",
              "      --hover-bg-color: #434B5C;\n",
              "      --hover-fill-color: #FFFFFF;\n",
              "      --disabled-bg-color: #3B4455;\n",
              "      --disabled-fill-color: #666;\n",
              "  }\n",
              "\n",
              "  .colab-df-quickchart {\n",
              "    background-color: var(--bg-color);\n",
              "    border: none;\n",
              "    border-radius: 50%;\n",
              "    cursor: pointer;\n",
              "    display: none;\n",
              "    fill: var(--fill-color);\n",
              "    height: 32px;\n",
              "    padding: 0;\n",
              "    width: 32px;\n",
              "  }\n",
              "\n",
              "  .colab-df-quickchart:hover {\n",
              "    background-color: var(--hover-bg-color);\n",
              "    box-shadow: 0 1px 2px rgba(60, 64, 67, 0.3), 0 1px 3px 1px rgba(60, 64, 67, 0.15);\n",
              "    fill: var(--button-hover-fill-color);\n",
              "  }\n",
              "\n",
              "  .colab-df-quickchart-complete:disabled,\n",
              "  .colab-df-quickchart-complete:disabled:hover {\n",
              "    background-color: var(--disabled-bg-color);\n",
              "    fill: var(--disabled-fill-color);\n",
              "    box-shadow: none;\n",
              "  }\n",
              "\n",
              "  .colab-df-spinner {\n",
              "    border: 2px solid var(--fill-color);\n",
              "    border-color: transparent;\n",
              "    border-bottom-color: var(--fill-color);\n",
              "    animation:\n",
              "      spin 1s steps(1) infinite;\n",
              "  }\n",
              "\n",
              "  @keyframes spin {\n",
              "    0% {\n",
              "      border-color: transparent;\n",
              "      border-bottom-color: var(--fill-color);\n",
              "      border-left-color: var(--fill-color);\n",
              "    }\n",
              "    20% {\n",
              "      border-color: transparent;\n",
              "      border-left-color: var(--fill-color);\n",
              "      border-top-color: var(--fill-color);\n",
              "    }\n",
              "    30% {\n",
              "      border-color: transparent;\n",
              "      border-left-color: var(--fill-color);\n",
              "      border-top-color: var(--fill-color);\n",
              "      border-right-color: var(--fill-color);\n",
              "    }\n",
              "    40% {\n",
              "      border-color: transparent;\n",
              "      border-right-color: var(--fill-color);\n",
              "      border-top-color: var(--fill-color);\n",
              "    }\n",
              "    60% {\n",
              "      border-color: transparent;\n",
              "      border-right-color: var(--fill-color);\n",
              "    }\n",
              "    80% {\n",
              "      border-color: transparent;\n",
              "      border-right-color: var(--fill-color);\n",
              "      border-bottom-color: var(--fill-color);\n",
              "    }\n",
              "    90% {\n",
              "      border-color: transparent;\n",
              "      border-bottom-color: var(--fill-color);\n",
              "    }\n",
              "  }\n",
              "</style>\n",
              "\n",
              "  <script>\n",
              "    async function quickchart(key) {\n",
              "      const quickchartButtonEl =\n",
              "        document.querySelector('#' + key + ' button');\n",
              "      quickchartButtonEl.disabled = true;  // To prevent multiple clicks.\n",
              "      quickchartButtonEl.classList.add('colab-df-spinner');\n",
              "      try {\n",
              "        const charts = await google.colab.kernel.invokeFunction(\n",
              "            'suggestCharts', [key], {});\n",
              "      } catch (error) {\n",
              "        console.error('Error during call to suggestCharts:', error);\n",
              "      }\n",
              "      quickchartButtonEl.classList.remove('colab-df-spinner');\n",
              "      quickchartButtonEl.classList.add('colab-df-quickchart-complete');\n",
              "    }\n",
              "    (() => {\n",
              "      let quickchartButtonEl =\n",
              "        document.querySelector('#df-207395d0-ddf5-41f2-8d2d-abc028123305 button');\n",
              "      quickchartButtonEl.style.display =\n",
              "        google.colab.kernel.accessAllowed ? 'block' : 'none';\n",
              "    })();\n",
              "  </script>\n",
              "</div>\n",
              "    </div>\n",
              "  </div>\n"
            ]
          },
          "metadata": {},
          "execution_count": 3
        }
      ],
      "source": [
        "train = pd.read_csv(\"/content/fashion-mnist_train.csv\")\n",
        "print(train.info())\n",
        "train.head()"
      ]
    },
    {
      "cell_type": "markdown",
      "source": [
        "Dropping the label column as it is not necessary"
      ],
      "metadata": {
        "id": "-tfv0ITrYZ7m"
      }
    },
    {
      "cell_type": "code",
      "source": [
        "train = train.drop(['label'],axis=1).to_numpy().reshape(-1,28,28,1)"
      ],
      "metadata": {
        "id": "f30uSxJsGGnd"
      },
      "execution_count": null,
      "outputs": []
    },
    {
      "cell_type": "markdown",
      "source": [
        "Visualizing the data"
      ],
      "metadata": {
        "id": "1L4mI6PqYgPQ"
      }
    },
    {
      "cell_type": "code",
      "source": [
        "fig,axes = plt.subplots(1,5,figsize=(15,15))\n",
        "for index,x in enumerate(train[:5]):\n",
        "    axes[index].imshow(x)"
      ],
      "metadata": {
        "colab": {
          "base_uri": "https://localhost:8080/",
          "height": 242
        },
        "id": "MMX9gAcAGVfh",
        "outputId": "f6f060da-a1d1-4320-bb20-87a2f8d56960"
      },
      "execution_count": null,
      "outputs": [
        {
          "output_type": "display_data",
          "data": {
            "text/plain": [
              "<Figure size 1500x1500 with 5 Axes>"
            ],
            "image/png": "[encoded data removed]"
          },
          "metadata": {}
        }
      ]
    },
    {
      "cell_type": "markdown",
      "source": [
        "Creating a preprocessing pipeline for easy use of data in tensorflow using tf.data"
      ],
      "metadata": {
        "id": "xitCmX7wY5xd"
      }
    },
    {
      "cell_type": "code",
      "source": [
        "def preprocess(records):\n",
        "    images =  records['image']\n",
        "    images = tf.cast(images, tf.float32)/255.0\n",
        "    return images\n",
        "\n",
        "#converting numpy array to tensorflow dataset\n",
        "dataset = tf.data.Dataset.from_tensor_slices({'image':train})\n",
        "#Once converted to tensorflow dataset, map() acts as apply() used in dataframe in python i.e. mapping each entry to a function\n",
        "dataset = dataset.map(preprocess)\n",
        "#repeat(3): repeat the dataset thrice. No number means infinite\n",
        "#shuffle(100): shuffle the dataset using 100 as buffer_size\n",
        "#batch(128): divide dataset in batches of 128 elements each\n",
        "#prefetch(1): prefetch 1 batch in advance before getting requested hence reducing latency\n",
        "dataset = dataset.repeat(3).shuffle(100).batch(128).prefetch(1)"
      ],
      "metadata": {
        "id": "Iv2nAzQPGY5z"
      },
      "execution_count": null,
      "outputs": []
    },
    {
      "cell_type": "code",
      "source": [
        "print(dataset)"
      ],
      "metadata": {
        "colab": {
          "base_uri": "https://localhost:8080/"
        },
        "id": "hWiDrplkGbZX",
        "outputId": "8c519674-cff1-4b5a-fb42-710bcda9cfd7"
      },
      "execution_count": null,
      "outputs": [
        {
          "output_type": "stream",
          "name": "stdout",
          "text": [
            "<_PrefetchDataset element_spec=TensorSpec(shape=(None, 28, 28, 1), dtype=tf.float32, name=None)>\n"
          ]
        }
      ]
    },
    {
      "cell_type": "markdown",
      "source": [
        "Declaring a few variables"
      ],
      "metadata": {
        "id": "XH1s7NqMZQVs"
      }
    },
    {
      "cell_type": "code",
      "source": [
        "input_shape = (28,28,1)\n",
        "final_encoder_dim = 2\n",
        "decoder_input_dim = 4\n",
        "depth = 5\n",
        "kernel_size = 3\n",
        "activation = 'tanh'\n",
        "dropout = 0.1"
      ],
      "metadata": {
        "id": "dKwwv3-QGev_"
      },
      "execution_count": null,
      "outputs": []
    },
    {
      "cell_type": "markdown",
      "source": [
        "# Designing the GAN models"
      ],
      "metadata": {
        "id": "PuD5-hL6ZS_2"
      }
    },
    {
      "cell_type": "markdown",
      "source": [
        "Designing Discriminator"
      ],
      "metadata": {
        "id": "WXbDaEOVZaXQ"
      }
    },
    {
      "cell_type": "code",
      "source": [
        "def discriminator(input_shape, dim, depth, kernel, dropout,activation):\n",
        "    layers = []\n",
        "    layers.append(InputLayer(input_shape=input_shape))\n",
        "    for i in range(1,depth):\n",
        "        layers.append(Conv2D(16*i,kernel_size=kernel_size))\n",
        "        layers.append(BatchNormalization())\n",
        "        layers.append(Activation('relu'))\n",
        "        layers.append(Dropout(dropout))\n",
        "    layers.append(Flatten())\n",
        "    layers.append(Dense(128,activation='relu'))\n",
        "    layers.append(Dense(dim))\n",
        "    return Sequential(layers)\n",
        "\n",
        "encoder = discriminator(input_shape, final_encoder_dim, depth, kernel_size, dropout,activation)"
      ],
      "metadata": {
        "id": "DA5G8b4MGhv5"
      },
      "execution_count": null,
      "outputs": []
    },
    {
      "cell_type": "markdown",
      "source": [
        "*  The InputLayer() intakes the input_shape i.e. 28x28x1. This layer acts as a placeholder for actual input\n",
        "*  Then we add a Convolution layer followed by BatchNormalization, ReLU activation & Dropout multiple times in the same sequence depending upon the depth required (here it is 5)\n",
        "*  The rest of the code is similar to any CNN"
      ],
      "metadata": {
        "id": "FDWPXKC7Zhxk"
      }
    },
    {
      "cell_type": "code",
      "source": [
        "encoder.summary()"
      ],
      "metadata": {
        "colab": {
          "base_uri": "https://localhost:8080/"
        },
        "id": "vZEM5PDoGjT5",
        "outputId": "7662b0c5-a9b7-49f1-c181-247928add3ab"
      },
      "execution_count": null,
      "outputs": [
        {
          "output_type": "stream",
          "name": "stdout",
          "text": [
            "Model: \"sequential\"\n",
            "_________________________________________________________________\n",
            " Layer (type)                Output Shape              Param #   \n",
            "=================================================================\n",
            " conv2d (Conv2D)             (None, 26, 26, 16)        160       \n",
            "                                                                 \n",
            " batch_normalization (BatchN  (None, 26, 26, 16)       64        \n",
            " ormalization)                                                   \n",
            "                                                                 \n",
            " activation (Activation)     (None, 26, 26, 16)        0         \n",
            "                                                                 \n",
            " dropout (Dropout)           (None, 26, 26, 16)        0         \n",
            "                                                                 \n",
            " conv2d_1 (Conv2D)           (None, 24, 24, 32)        4640      \n",
            "                                                                 \n",
            " batch_normalization_1 (Batc  (None, 24, 24, 32)       128       \n",
            " hNormalization)                                                 \n",
            "                                                                 \n",
            " activation_1 (Activation)   (None, 24, 24, 32)        0         \n",
            "                                                                 \n",
            " dropout_1 (Dropout)         (None, 24, 24, 32)        0         \n",
            "                                                                 \n",
            " conv2d_2 (Conv2D)           (None, 22, 22, 48)        13872     \n",
            "                                                                 \n",
            " batch_normalization_2 (Batc  (None, 22, 22, 48)       192       \n",
            " hNormalization)                                                 \n",
            "                                                                 \n",
            " activation_2 (Activation)   (None, 22, 22, 48)        0         \n",
            "                                                                 \n",
            " dropout_2 (Dropout)         (None, 22, 22, 48)        0         \n",
            "                                                                 \n",
            " conv2d_3 (Conv2D)           (None, 20, 20, 64)        27712     \n",
            "                                                                 \n",
            " batch_normalization_3 (Batc  (None, 20, 20, 64)       256       \n",
            " hNormalization)                                                 \n",
            "                                                                 \n",
            " activation_3 (Activation)   (None, 20, 20, 64)        0         \n",
            "                                                                 \n",
            " dropout_3 (Dropout)         (None, 20, 20, 64)        0         \n",
            "                                                                 \n",
            " flatten (Flatten)           (None, 25600)             0         \n",
            "                                                                 \n",
            " dense (Dense)               (None, 128)               3276928   \n",
            "                                                                 \n",
            " dense_1 (Dense)             (None, 2)                 258       \n",
            "                                                                 \n",
            "=================================================================\n",
            "Total params: 3,324,210\n",
            "Trainable params: 3,323,890\n",
            "Non-trainable params: 320\n",
            "_________________________________________________________________\n"
          ]
        }
      ]
    },
    {
      "cell_type": "markdown",
      "source": [
        "# Designing Generator"
      ],
      "metadata": {
        "id": "MA4HNNgJZe10"
      }
    },
    {
      "cell_type": "code",
      "source": [
        "def generator(input_shape, depth, output_shape,kernel,dropout):\n",
        "    layers = []\n",
        "    layers.append(InputLayer(input_shape=(input_shape,)))\n",
        "    layers.append(Dense(784,activation='relu'))\n",
        "    layers.append(Reshape(target_shape=output_shape))\n",
        "    for i in range(1,depth):\n",
        "        layers.append(Conv2DTranspose(16*i,kernel_size=kernel))\n",
        "        layers.append(BatchNormalization())\n",
        "        layers.append(Activation('relu'))\n",
        "        layers.append(Dropout(dropout))\n",
        "\n",
        "    resizer =  lambda name: Lambda(lambda images: tf.image.resize(images, [28,28]), name=name)\n",
        "    layers.append(resizer('Reshape'))\n",
        "    layers.append(Conv2DTranspose(1,kernel_size=1,activation=None))\n",
        "    return Sequential(layers)\n",
        "decoder = generator(decoder_input_dim, depth, input_shape,kernel_size,dropout)"
      ],
      "metadata": {
        "id": "IItEWZflGm7N"
      },
      "execution_count": null,
      "outputs": []
    },
    {
      "cell_type": "markdown",
      "source": [
        "* InputLayer() intaking input_shape equal to (4,) in our case. This can be of any dimension\n",
        "* The Dense layer is used to map this lower dimension a higher dimension & the high dimension embedding is then reshaped\n",
        "* Similar to Discriminator, depending upon the depth, a similar code block is appended except the Conv2D layer is replaced by Conv2DTranspose which is more of an inverse Conv2D layer upsampling the data unlike Conv2D that downsamples the image."
      ],
      "metadata": {
        "id": "-cSClw1xZ5EN"
      }
    },
    {
      "cell_type": "code",
      "source": [
        "decoder.summary()"
      ],
      "metadata": {
        "colab": {
          "base_uri": "https://localhost:8080/"
        },
        "id": "Tf84b9KQGp1W",
        "outputId": "f54918a8-49e0-4a23-8ef6-888ccb43e4fa"
      },
      "execution_count": null,
      "outputs": [
        {
          "output_type": "stream",
          "name": "stdout",
          "text": [
            "Model: \"sequential_1\"\n",
            "_________________________________________________________________\n",
            " Layer (type)                Output Shape              Param #   \n",
            "=================================================================\n",
            " dense_2 (Dense)             (None, 784)               3920      \n",
            "                                                                 \n",
            " reshape (Reshape)           (None, 28, 28, 1)         0         \n",
            "                                                                 \n",
            " conv2d_transpose (Conv2DTra  (None, 30, 30, 16)       160       \n",
            " nspose)                                                         \n",
            "                                                                 \n",
            " batch_normalization_4 (Batc  (None, 30, 30, 16)       64        \n",
            " hNormalization)                                                 \n",
            "                                                                 \n",
            " activation_4 (Activation)   (None, 30, 30, 16)        0         \n",
            "                                                                 \n",
            " dropout_4 (Dropout)         (None, 30, 30, 16)        0         \n",
            "                                                                 \n",
            " conv2d_transpose_1 (Conv2DT  (None, 32, 32, 32)       4640      \n",
            " ranspose)                                                       \n",
            "                                                                 \n",
            " batch_normalization_5 (Batc  (None, 32, 32, 32)       128       \n",
            " hNormalization)                                                 \n",
            "                                                                 \n",
            " activation_5 (Activation)   (None, 32, 32, 32)        0         \n",
            "                                                                 \n",
            " dropout_5 (Dropout)         (None, 32, 32, 32)        0         \n",
            "                                                                 \n",
            " conv2d_transpose_2 (Conv2DT  (None, 34, 34, 48)       13872     \n",
            " ranspose)                                                       \n",
            "                                                                 \n",
            " batch_normalization_6 (Batc  (None, 34, 34, 48)       192       \n",
            " hNormalization)                                                 \n",
            "                                                                 \n",
            " activation_6 (Activation)   (None, 34, 34, 48)        0         \n",
            "                                                                 \n",
            " dropout_6 (Dropout)         (None, 34, 34, 48)        0         \n",
            "                                                                 \n",
            " conv2d_transpose_3 (Conv2DT  (None, 36, 36, 64)       27712     \n",
            " ranspose)                                                       \n",
            "                                                                 \n",
            " batch_normalization_7 (Batc  (None, 36, 36, 64)       256       \n",
            " hNormalization)                                                 \n",
            "                                                                 \n",
            " activation_7 (Activation)   (None, 36, 36, 64)        0         \n",
            "                                                                 \n",
            " dropout_7 (Dropout)         (None, 36, 36, 64)        0         \n",
            "                                                                 \n",
            " Reshape (Lambda)            (None, 28, 28, 64)        0         \n",
            "                                                                 \n",
            " conv2d_transpose_4 (Conv2DT  (None, 28, 28, 1)        65        \n",
            " ranspose)                                                       \n",
            "                                                                 \n",
            "=================================================================\n",
            "Total params: 51,009\n",
            "Trainable params: 50,689\n",
            "Non-trainable params: 320\n",
            "_________________________________________________________________\n"
          ]
        }
      ]
    },
    {
      "cell_type": "markdown",
      "source": [
        "Defining the loss function & optimizers for the 2 networks"
      ],
      "metadata": {
        "id": "8t6FUSylaBDt"
      }
    },
    {
      "cell_type": "code",
      "source": [
        "loss = tf.losses.SparseCategoricalCrossentropy(from_logits=True)\n",
        "encoder_opt = tf.keras.optimizers.Adam()\n",
        "decoder_opt = tf.keras.optimizers.Adam()"
      ],
      "metadata": {
        "id": "IsTn8hmQGsLX"
      },
      "execution_count": null,
      "outputs": []
    },
    {
      "cell_type": "markdown",
      "source": [
        "# Training\n",
        "\n",
        "The training is broken down in to three phases\n",
        "\n",
        "\n",
        "1.   Batch Training\n",
        "2.   Epoch Training\n",
        "3.   Complete Training\n",
        "\n"
      ],
      "metadata": {
        "id": "p7lV_lgxaE8w"
      }
    },
    {
      "cell_type": "code",
      "source": [
        "def training(training_data):\n",
        "    batch_size = tf.shape(training_data)[0]\n",
        "    real_data = training_data\n",
        "    real_labels = tf.ones((batch_size,))\n",
        "    fake_labels = tf.zeros((batch_size,))\n",
        "    labels = tf.concat((real_labels,fake_labels),axis=0)\n",
        "    noise = tf.random.normal((batch_size,decoder_input_dim),mean=0,stddev=1)\n",
        "\n",
        "    with tf.GradientTape() as decoder_gt, tf.GradientTape() as encoder_gt:\n",
        "\n",
        "        fake_images = decoder(noise,training=True)\n",
        "        fake_labels_2 = encoder(fake_images,training=True)\n",
        "        real_labels_2 = encoder(training_data,training=True)\n",
        "        predicted_labels = tf.concat((real_labels_2,fake_labels_2),axis=0)\n",
        "\n",
        "\n",
        "        discrim_loss = loss(labels,predicted_labels)\n",
        "        #print(discrim_loss)\n",
        "        gen_loss = loss(real_labels,fake_labels_2)\n",
        "\n",
        "    dec_grad = decoder_gt.gradient(gen_loss,decoder.trainable_variables)\n",
        "    enc_grad = encoder_gt.gradient(discrim_loss,encoder.trainable_variables)\n",
        "\n",
        "    decoder_opt.apply_gradients(zip(dec_grad, decoder.trainable_variables))\n",
        "    encoder_opt.apply_gradients(zip(enc_grad, encoder.trainable_variables))\n",
        "\n",
        "    return discrim_loss, gen_loss"
      ],
      "metadata": {
        "id": "_rCTbsZCGuh2"
      },
      "execution_count": null,
      "outputs": []
    },
    {
      "cell_type": "code",
      "source": [
        "import os\n",
        "def epoch_training(data_iterator, steps_per_epoch, avg_gen_loss, avg_dis_loss):\n",
        "  try:\n",
        "      for x in range(steps_per_epoch):\n",
        "          d_loss, g_loss = training(next(data_iterator))\n",
        "          avg_gen_loss.update_state(g_loss)\n",
        "          avg_dis_loss.update_state(d_loss)\n",
        "          if x%20==0:\n",
        "              print('{} steps done'.format(x))\n",
        "\n",
        "      gen_loss = avg_gen_loss.result()\n",
        "      dis_loss = avg_dis_loss.result()\n",
        "\n",
        "\n",
        "      tf.summary.scalar('gen_loss',gen_loss,step=encoder_opt.iterations)\n",
        "      tf.summary.flush()\n",
        "      tf.summary.scalar('dis_loss',dis_loss,step=decoder_opt.iterations)\n",
        "      tf.summary.flush()\n",
        "\n",
        "      avg_gen_loss.reset_state()\n",
        "      avg_dis_loss.reset_state()\n",
        "      return gen_loss.numpy(), dis_loss.numpy()\n",
        "\n",
        "  except StopIteration:\n",
        "        print('End of dataset reached.')\n",
        "        return 0.0, 0.0\n",
        "\n",
        "def train(training_data, epochs):\n",
        "    checkpoint_dir = './training_checkpoints'\n",
        "    checkpoint_prefix = os.path.join(checkpoint_dir, \"ckpt\")\n",
        "    checkpoint = tf.train.Checkpoint(generator_optimizer=decoder_opt,discriminator_optimizer=encoder_opt,generator=decoder,discriminator=encoder)\n",
        "    manager = tf.train.CheckpointManager(checkpoint, 'training_checkpoints', max_to_keep=5)\n",
        "    checkpoint.restore(manager.latest_checkpoint)\n",
        "\n",
        "    summary = tf.summary.create_file_writer('metrics/train')\n",
        "\n",
        "    avg_generator_loss = tf.keras.metrics.Mean()\n",
        "    avg_discriminator_loss = tf.keras.metrics.Mean()\n",
        "\n",
        "    data_iterator = training_data.__iter__()\n",
        "    for i in range(epochs):\n",
        "        with summary.as_default():\n",
        "            gen_loss, dis_loss = epoch_training(data_iterator, 100, avg_generator_loss, avg_discriminator_loss)\n",
        "            print({'gen_loss':gen_loss,'dis_loss':dis_loss})\n",
        "            manager.save()"
      ],
      "metadata": {
        "id": "iR3tzP1-GxVj"
      },
      "execution_count": null,
      "outputs": []
    },
    {
      "cell_type": "markdown",
      "source": [
        "Training the dataset"
      ],
      "metadata": {
        "id": "T63iUP_zaim1"
      }
    },
    {
      "cell_type": "code",
      "source": [
        "train(dataset,100)"
      ],
      "metadata": {
        "colab": {
          "base_uri": "https://localhost:8080/"
        },
        "id": "UcYk1rxnGzXw",
        "outputId": "6ef988c7-5053-458a-c793-841d72536b0d"
      },
      "execution_count": null,
      "outputs": [
        {
          "output_type": "stream",
          "name": "stderr",
          "text": [
            "WARNING:tensorflow:5 out of the last 5 calls to <function _BaseOptimizer._update_step_xla at 0x79d097ca7010> triggered tf.function retracing. Tracing is expensive and the excessive number of tracings could be due to (1) creating @tf.function repeatedly in a loop, (2) passing tensors with different shapes, (3) passing Python objects instead of tensors. For (1), please define your @tf.function outside of the loop. For (2), @tf.function has reduce_retracing=True option that can avoid unnecessary retracing. For (3), please refer to https://www.tensorflow.org/guide/function#controlling_retracing and https://www.tensorflow.org/api_docs/python/tf/function for  more details.\n",
            "WARNING:tensorflow:6 out of the last 6 calls to <function _BaseOptimizer._update_step_xla at 0x79d097ca7010> triggered tf.function retracing. Tracing is expensive and the excessive number of tracings could be due to (1) creating @tf.function repeatedly in a loop, (2) passing tensors with different shapes, (3) passing Python objects instead of tensors. For (1), please define your @tf.function outside of the loop. For (2), @tf.function has reduce_retracing=True option that can avoid unnecessary retracing. For (3), please refer to https://www.tensorflow.org/guide/function#controlling_retracing and https://www.tensorflow.org/api_docs/python/tf/function for  more details.\n"
          ]
        },
        {
          "output_type": "stream",
          "name": "stdout",
          "text": [
            "0 steps done\n",
            "20 steps done\n",
            "40 steps done\n",
            "60 steps done\n",
            "80 steps done\n",
            "{'gen_loss': 8.093697, 'dis_loss': 0.023775171}\n",
            "0 steps done\n",
            "20 steps done\n",
            "40 steps done\n",
            "60 steps done\n",
            "80 steps done\n",
            "{'gen_loss': 8.90657, 'dis_loss': 0.013535567}\n",
            "0 steps done\n",
            "20 steps done\n",
            "40 steps done\n",
            "60 steps done\n",
            "80 steps done\n",
            "{'gen_loss': 9.028268, 'dis_loss': 0.006603058}\n",
            "0 steps done\n",
            "20 steps done\n",
            "40 steps done\n",
            "60 steps done\n",
            "80 steps done\n",
            "{'gen_loss': 8.922433, 'dis_loss': 0.16274342}\n",
            "0 steps done\n",
            "20 steps done\n",
            "40 steps done\n",
            "60 steps done\n",
            "80 steps done\n",
            "{'gen_loss': 6.2652416, 'dis_loss': 0.027568117}\n",
            "0 steps done\n",
            "20 steps done\n",
            "40 steps done\n",
            "60 steps done\n",
            "80 steps done\n",
            "{'gen_loss': 6.9898505, 'dis_loss': 0.017363453}\n",
            "0 steps done\n",
            "20 steps done\n",
            "40 steps done\n",
            "60 steps done\n",
            "80 steps done\n",
            "{'gen_loss': 8.116298, 'dis_loss': 0.015741577}\n",
            "0 steps done\n",
            "20 steps done\n",
            "40 steps done\n",
            "60 steps done\n",
            "80 steps done\n",
            "{'gen_loss': 8.796931, 'dis_loss': 0.0074791647}\n",
            "0 steps done\n",
            "20 steps done\n",
            "40 steps done\n",
            "60 steps done\n",
            "80 steps done\n",
            "{'gen_loss': 9.256391, 'dis_loss': 0.0062719677}\n",
            "0 steps done\n",
            "20 steps done\n",
            "40 steps done\n",
            "60 steps done\n",
            "80 steps done\n",
            "{'gen_loss': 9.633304, 'dis_loss': 0.017890902}\n",
            "0 steps done\n",
            "20 steps done\n",
            "40 steps done\n",
            "60 steps done\n",
            "80 steps done\n",
            "{'gen_loss': 10.142319, 'dis_loss': 0.007275358}\n",
            "0 steps done\n",
            "20 steps done\n",
            "40 steps done\n",
            "60 steps done\n",
            "80 steps done\n",
            "{'gen_loss': 10.014889, 'dis_loss': 0.0044013364}\n",
            "0 steps done\n",
            "20 steps done\n",
            "40 steps done\n",
            "60 steps done\n",
            "80 steps done\n",
            "{'gen_loss': 10.296806, 'dis_loss': 0.0033814888}\n",
            "0 steps done\n",
            "20 steps done\n",
            "40 steps done\n",
            "60 steps done\n",
            "80 steps done\n",
            "{'gen_loss': 10.412, 'dis_loss': 0.0019606652}\n",
            "0 steps done\n",
            "End of dataset reached.\n",
            "{'gen_loss': 0.0, 'dis_loss': 0.0}\n",
            "End of dataset reached.\n",
            "{'gen_loss': 0.0, 'dis_loss': 0.0}\n",
            "End of dataset reached.\n",
            "{'gen_loss': 0.0, 'dis_loss': 0.0}\n",
            "End of dataset reached.\n",
            "{'gen_loss': 0.0, 'dis_loss': 0.0}\n",
            "End of dataset reached.\n",
            "{'gen_loss': 0.0, 'dis_loss': 0.0}\n",
            "End of dataset reached.\n",
            "{'gen_loss': 0.0, 'dis_loss': 0.0}\n",
            "End of dataset reached.\n",
            "{'gen_loss': 0.0, 'dis_loss': 0.0}\n",
            "End of dataset reached.\n",
            "{'gen_loss': 0.0, 'dis_loss': 0.0}\n",
            "End of dataset reached.\n",
            "{'gen_loss': 0.0, 'dis_loss': 0.0}\n",
            "End of dataset reached.\n",
            "{'gen_loss': 0.0, 'dis_loss': 0.0}\n",
            "End of dataset reached.\n",
            "{'gen_loss': 0.0, 'dis_loss': 0.0}\n",
            "End of dataset reached.\n",
            "{'gen_loss': 0.0, 'dis_loss': 0.0}\n",
            "End of dataset reached.\n",
            "{'gen_loss': 0.0, 'dis_loss': 0.0}\n",
            "End of dataset reached.\n",
            "{'gen_loss': 0.0, 'dis_loss': 0.0}\n",
            "End of dataset reached.\n",
            "{'gen_loss': 0.0, 'dis_loss': 0.0}\n",
            "End of dataset reached.\n",
            "{'gen_loss': 0.0, 'dis_loss': 0.0}\n",
            "End of dataset reached.\n",
            "{'gen_loss': 0.0, 'dis_loss': 0.0}\n",
            "End of dataset reached.\n",
            "{'gen_loss': 0.0, 'dis_loss': 0.0}\n",
            "End of dataset reached.\n",
            "{'gen_loss': 0.0, 'dis_loss': 0.0}\n",
            "End of dataset reached.\n",
            "{'gen_loss': 0.0, 'dis_loss': 0.0}\n",
            "End of dataset reached.\n",
            "{'gen_loss': 0.0, 'dis_loss': 0.0}\n",
            "End of dataset reached.\n",
            "{'gen_loss': 0.0, 'dis_loss': 0.0}\n",
            "End of dataset reached.\n",
            "{'gen_loss': 0.0, 'dis_loss': 0.0}\n",
            "End of dataset reached.\n",
            "{'gen_loss': 0.0, 'dis_loss': 0.0}\n",
            "End of dataset reached.\n",
            "{'gen_loss': 0.0, 'dis_loss': 0.0}\n",
            "End of dataset reached.\n",
            "{'gen_loss': 0.0, 'dis_loss': 0.0}\n",
            "End of dataset reached.\n",
            "{'gen_loss': 0.0, 'dis_loss': 0.0}\n",
            "End of dataset reached.\n",
            "{'gen_loss': 0.0, 'dis_loss': 0.0}\n",
            "End of dataset reached.\n",
            "{'gen_loss': 0.0, 'dis_loss': 0.0}\n",
            "End of dataset reached.\n",
            "{'gen_loss': 0.0, 'dis_loss': 0.0}\n",
            "End of dataset reached.\n",
            "{'gen_loss': 0.0, 'dis_loss': 0.0}\n",
            "End of dataset reached.\n",
            "{'gen_loss': 0.0, 'dis_loss': 0.0}\n",
            "End of dataset reached.\n",
            "{'gen_loss': 0.0, 'dis_loss': 0.0}\n",
            "End of dataset reached.\n",
            "{'gen_loss': 0.0, 'dis_loss': 0.0}\n",
            "End of dataset reached.\n",
            "{'gen_loss': 0.0, 'dis_loss': 0.0}\n",
            "End of dataset reached.\n",
            "{'gen_loss': 0.0, 'dis_loss': 0.0}\n",
            "End of dataset reached.\n",
            "{'gen_loss': 0.0, 'dis_loss': 0.0}\n",
            "End of dataset reached.\n",
            "{'gen_loss': 0.0, 'dis_loss': 0.0}\n",
            "End of dataset reached.\n",
            "{'gen_loss': 0.0, 'dis_loss': 0.0}\n",
            "End of dataset reached.\n",
            "{'gen_loss': 0.0, 'dis_loss': 0.0}\n",
            "End of dataset reached.\n",
            "{'gen_loss': 0.0, 'dis_loss': 0.0}\n",
            "End of dataset reached.\n",
            "{'gen_loss': 0.0, 'dis_loss': 0.0}\n",
            "End of dataset reached.\n",
            "{'gen_loss': 0.0, 'dis_loss': 0.0}\n",
            "End of dataset reached.\n",
            "{'gen_loss': 0.0, 'dis_loss': 0.0}\n",
            "End of dataset reached.\n",
            "{'gen_loss': 0.0, 'dis_loss': 0.0}\n",
            "End of dataset reached.\n",
            "{'gen_loss': 0.0, 'dis_loss': 0.0}\n",
            "End of dataset reached.\n",
            "{'gen_loss': 0.0, 'dis_loss': 0.0}\n",
            "End of dataset reached.\n",
            "{'gen_loss': 0.0, 'dis_loss': 0.0}\n",
            "End of dataset reached.\n",
            "{'gen_loss': 0.0, 'dis_loss': 0.0}\n",
            "End of dataset reached.\n",
            "{'gen_loss': 0.0, 'dis_loss': 0.0}\n",
            "End of dataset reached.\n",
            "{'gen_loss': 0.0, 'dis_loss': 0.0}\n",
            "End of dataset reached.\n",
            "{'gen_loss': 0.0, 'dis_loss': 0.0}\n",
            "End of dataset reached.\n",
            "{'gen_loss': 0.0, 'dis_loss': 0.0}\n",
            "End of dataset reached.\n",
            "{'gen_loss': 0.0, 'dis_loss': 0.0}\n",
            "End of dataset reached.\n",
            "{'gen_loss': 0.0, 'dis_loss': 0.0}\n",
            "End of dataset reached.\n",
            "{'gen_loss': 0.0, 'dis_loss': 0.0}\n",
            "End of dataset reached.\n",
            "{'gen_loss': 0.0, 'dis_loss': 0.0}\n",
            "End of dataset reached.\n",
            "{'gen_loss': 0.0, 'dis_loss': 0.0}\n",
            "End of dataset reached.\n",
            "{'gen_loss': 0.0, 'dis_loss': 0.0}\n",
            "End of dataset reached.\n",
            "{'gen_loss': 0.0, 'dis_loss': 0.0}\n",
            "End of dataset reached.\n",
            "{'gen_loss': 0.0, 'dis_loss': 0.0}\n",
            "End of dataset reached.\n",
            "{'gen_loss': 0.0, 'dis_loss': 0.0}\n",
            "End of dataset reached.\n",
            "{'gen_loss': 0.0, 'dis_loss': 0.0}\n",
            "End of dataset reached.\n",
            "{'gen_loss': 0.0, 'dis_loss': 0.0}\n",
            "End of dataset reached.\n",
            "{'gen_loss': 0.0, 'dis_loss': 0.0}\n",
            "End of dataset reached.\n",
            "{'gen_loss': 0.0, 'dis_loss': 0.0}\n",
            "End of dataset reached.\n",
            "{'gen_loss': 0.0, 'dis_loss': 0.0}\n",
            "End of dataset reached.\n",
            "{'gen_loss': 0.0, 'dis_loss': 0.0}\n",
            "End of dataset reached.\n",
            "{'gen_loss': 0.0, 'dis_loss': 0.0}\n",
            "End of dataset reached.\n",
            "{'gen_loss': 0.0, 'dis_loss': 0.0}\n",
            "End of dataset reached.\n",
            "{'gen_loss': 0.0, 'dis_loss': 0.0}\n",
            "End of dataset reached.\n",
            "{'gen_loss': 0.0, 'dis_loss': 0.0}\n",
            "End of dataset reached.\n",
            "{'gen_loss': 0.0, 'dis_loss': 0.0}\n",
            "End of dataset reached.\n",
            "{'gen_loss': 0.0, 'dis_loss': 0.0}\n",
            "End of dataset reached.\n",
            "{'gen_loss': 0.0, 'dis_loss': 0.0}\n",
            "End of dataset reached.\n",
            "{'gen_loss': 0.0, 'dis_loss': 0.0}\n",
            "End of dataset reached.\n",
            "{'gen_loss': 0.0, 'dis_loss': 0.0}\n",
            "End of dataset reached.\n",
            "{'gen_loss': 0.0, 'dis_loss': 0.0}\n",
            "End of dataset reached.\n",
            "{'gen_loss': 0.0, 'dis_loss': 0.0}\n",
            "End of dataset reached.\n",
            "{'gen_loss': 0.0, 'dis_loss': 0.0}\n",
            "End of dataset reached.\n",
            "{'gen_loss': 0.0, 'dis_loss': 0.0}\n",
            "End of dataset reached.\n",
            "{'gen_loss': 0.0, 'dis_loss': 0.0}\n",
            "End of dataset reached.\n",
            "{'gen_loss': 0.0, 'dis_loss': 0.0}\n",
            "End of dataset reached.\n",
            "{'gen_loss': 0.0, 'dis_loss': 0.0}\n",
            "End of dataset reached.\n",
            "{'gen_loss': 0.0, 'dis_loss': 0.0}\n",
            "End of dataset reached.\n",
            "{'gen_loss': 0.0, 'dis_loss': 0.0}\n"
          ]
        }
      ]
    },
    {
      "cell_type": "markdown",
      "source": [
        "# Generating new images"
      ],
      "metadata": {
        "id": "ypRbuj_jacT9"
      }
    },
    {
      "cell_type": "code",
      "source": [
        "noise = tf.random.normal((5,4),mean=0,stddev=1)\n",
        "images = decoder(noise,training=False)\n",
        "fig,axes = plt.subplots(1,5,figsize=(15,15))\n",
        "for index,x in enumerate(images):\n",
        "    axes[index].imshow(x)\n"
      ],
      "metadata": {
        "colab": {
          "base_uri": "https://localhost:8080/",
          "height": 242
        },
        "id": "-aqbFl9bG2c6",
        "outputId": "6ff1f353-cba9-4f00-840f-3ae23fb74568"
      },
      "execution_count": null,
      "outputs": [
        {
          "output_type": "display_data",
          "data": {
            "text/plain": [
              "<Figure size 1500x1500 with 5 Axes>"
            ],
            "image/png": "[encoded data removed]"
          },
          "metadata": {}
        }
      ]
    }
  ],
  "metadata": {
    "colab": {
      "provenance": [],
      "gpuType": "T4"
    },
    "kernelspec": {
      "display_name": "Python 3",
      "name": "python3"
    },
    "language_info": {
      "name": "python"
    },
    "accelerator": "GPU"
  },
  "nbformat": 4,
  "nbformat_minor": 0
}